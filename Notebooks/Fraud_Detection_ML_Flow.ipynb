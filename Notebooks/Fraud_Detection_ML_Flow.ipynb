{
  "cells": [
    {
      "cell_type": "markdown",
      "metadata": {
        "id": "RqLQ-hbyb5jH"
      },
      "source": [
        "# Fraud Detection in Electricity and Gas Consumption Challenge\n",
        "\n",
        "This is a simple starter notebook based on the tutorial prepared by Joy Wawira. Check out the article [here](https://zindi.africa/learn/fraud-detection-in-electricity-and-gas-consumption-challenge-tutorial) for a more detailed description of the steps taken.\n",
        "\n",
        "This notebook covers:\n",
        "- Downloading the data straight from Zindi and onto colab\n",
        "- Loading the data and carrying out simple EDA to understand the data and prepare for modelling \n",
        "- Preprocessing the data and feature engineering \n",
        "- Creating a simple LGBM model and predicting on the test set\n",
        "- Prepare submission file and save as csv\n",
        "- Some tips on how to improve model performance and your score"
      ]
    },
    {
      "cell_type": "markdown",
      "metadata": {
        "id": "e6LfbE6PJbmp"
      },
      "source": [
        "# Pre-Requisites"
      ]
    },
    {
      "cell_type": "code",
      "execution_count": 1,
      "metadata": {
        "id": "IYR_e0SMJnpa",
        "vscode": {
          "languageId": "powershell"
        }
      },
      "outputs": [],
      "source": [
        "DATA_DIR = '../data'\n",
        "\n",
        "TRAIN_DIR = f'{DATA_DIR}/train'\n",
        "TEST_DIR = f'{DATA_DIR}/test'\n",
        "\n",
        "OUTPUT_DIR = f'{DATA_DIR}/output'"
      ]
    },
    {
      "cell_type": "code",
      "execution_count": 2,
      "metadata": {
        "vscode": {
          "languageId": "powershell"
        }
      },
      "outputs": [],
      "source": [
        "import os\n",
        "\n",
        "for pth in [TRAIN_DIR, TEST_DIR, OUTPUT_DIR]:\n",
        "    if not os.path.exists(pth):\n",
        "        os.makedirs(pth)\n"
      ]
    },
    {
      "cell_type": "markdown",
      "metadata": {
        "id": "Jy_tdygDJm-k"
      },
      "source": [
        "# Data Prep"
      ]
    },
    {
      "cell_type": "markdown",
      "metadata": {
        "id": "GKfpS4UVJ4Wj"
      },
      "source": [
        "## Import Libraries"
      ]
    },
    {
      "cell_type": "code",
      "execution_count": 3,
      "metadata": {
        "id": "OJMD_I3EJWP4",
        "vscode": {
          "languageId": "powershell"
        }
      },
      "outputs": [],
      "source": [
        "import pandas as pd\n",
        "import numpy as np\n",
        "import matplotlib.pyplot as plt\n",
        "import lightgbm\n",
        "\n",
        "from sklearn.metrics.pairwise import rbf_kernel\n",
        "\n",
        "from lightgbm import LGBMClassifier\n",
        "from sklearn.pipeline import Pipeline, make_pipeline, FunctionTransformer\n",
        "from sklearn.model_selection import train_test_split,cross_val_score\n",
        "from sklearn import metrics\n",
        "from sklearn.preprocessing import StandardScaler, OneHotEncoder, OrdinalEncoder\n",
        "from sklearn.compose import ColumnTransformer\n",
        "from sklearn.tree import DecisionTreeClassifier\n",
        "from sklearn.svm import SVC\n",
        "from sklearn.ensemble import GradientBoostingClassifier,RandomForestClassifier\n",
        "from imblearn.over_sampling import SMOTE\n",
        "from imblearn.pipeline import Pipeline as ImPipeline\n",
        "from datetime import date\n",
        "\n",
        "from catboost import CatBoostClassifier\n",
        "\n",
        "import optuna\n",
        "from sklearn.metrics import accuracy_score\n",
        "from sklearn.ensemble import GradientBoostingClassifier\n",
        "import xgboost as xgb\n",
        "import mlflow\n",
        "import mlflow.sklearn\n",
        "import warnings\n",
        "warnings.simplefilter('ignore')"
      ]
    },
    {
      "cell_type": "markdown",
      "metadata": {
        "id": "exEGyf6vJ_4T"
      },
      "source": [
        "## Read the Data"
      ]
    },
    {
      "cell_type": "code",
      "execution_count": 4,
      "metadata": {
        "id": "I2oIx7IuKCJm",
        "vscode": {
          "languageId": "powershell"
        }
      },
      "outputs": [],
      "source": [
        "client_train = pd.read_csv(f'{TRAIN_DIR}/client_train.csv', low_memory=False)\n",
        "invoice_train = pd.read_csv(f'{TRAIN_DIR}/invoice_train.csv', low_memory=False)\n",
        "\n",
        "client_test = pd.read_csv(f'{TEST_DIR}/client_test.csv', low_memory=False)\n",
        "invoice_test = pd.read_csv(f'{TEST_DIR}/invoice_test.csv', low_memory=False)\n",
        "sample_submission = pd.read_csv(f'{DATA_DIR}/SampleSubmission.csv', low_memory=False)"
      ]
    },
    {
      "cell_type": "code",
      "execution_count": 5,
      "metadata": {
        "vscode": {
          "languageId": "powershell"
        }
      },
      "outputs": [],
      "source": [
        "import logging\n",
        "\n",
        "# Setup basic configuration for logging\n",
        "logging.basicConfig(level=logging.INFO, format='%(asctime)s - %(levelname)s - %(message)s')\n",
        "\n"
      ]
    },
    {
      "cell_type": "markdown",
      "metadata": {
        "id": "cDRp9i5ZO9mz"
      },
      "source": [
        "## Data Understanding"
      ]
    },
    {
      "cell_type": "code",
      "execution_count": 6,
      "metadata": {
        "colab": {
          "base_uri": "https://localhost:8080/"
        },
        "id": "h4zQzvLjKZ6E",
        "outputId": "deb14c51-2f5d-40cd-aa35-771477e044e0",
        "vscode": {
          "languageId": "powershell"
        }
      },
      "outputs": [
        {
          "name": "stdout",
          "output_type": "stream",
          "text": [
            "(135493, 6) (4476749, 16) (58069, 5) (4476749, 16)\n"
          ]
        }
      ],
      "source": [
        "#compare size of the various datasets\n",
        "print(client_train.shape, invoice_train.shape, client_test.shape, invoice_train.shape)"
      ]
    },
    {
      "cell_type": "code",
      "execution_count": 7,
      "metadata": {
        "colab": {
          "base_uri": "https://localhost:8080/",
          "height": 270
        },
        "id": "Tw1On2leQsxU",
        "outputId": "4bbe6376-2007-4ea4-cd6f-e53e4c0bcb33",
        "vscode": {
          "languageId": "powershell"
        }
      },
      "outputs": [
        {
          "data": {
            "text/html": [
              "<div>\n",
              "<style scoped>\n",
              "    .dataframe tbody tr th:only-of-type {\n",
              "        vertical-align: middle;\n",
              "    }\n",
              "\n",
              "    .dataframe tbody tr th {\n",
              "        vertical-align: top;\n",
              "    }\n",
              "\n",
              "    .dataframe thead th {\n",
              "        text-align: right;\n",
              "    }\n",
              "</style>\n",
              "<table border=\"1\" class=\"dataframe\">\n",
              "  <thead>\n",
              "    <tr style=\"text-align: right;\">\n",
              "      <th></th>\n",
              "      <th>client_id</th>\n",
              "      <th>invoice_date</th>\n",
              "      <th>tarif_type</th>\n",
              "      <th>counter_number</th>\n",
              "      <th>counter_statue</th>\n",
              "      <th>counter_code</th>\n",
              "      <th>reading_remarque</th>\n",
              "      <th>counter_coefficient</th>\n",
              "      <th>consommation_level_1</th>\n",
              "      <th>consommation_level_2</th>\n",
              "      <th>consommation_level_3</th>\n",
              "      <th>consommation_level_4</th>\n",
              "      <th>old_index</th>\n",
              "      <th>new_index</th>\n",
              "      <th>months_number</th>\n",
              "      <th>counter_type</th>\n",
              "    </tr>\n",
              "  </thead>\n",
              "  <tbody>\n",
              "    <tr>\n",
              "      <th>0</th>\n",
              "      <td>train_Client_0</td>\n",
              "      <td>2014-03-24</td>\n",
              "      <td>11</td>\n",
              "      <td>1335667</td>\n",
              "      <td>0</td>\n",
              "      <td>203</td>\n",
              "      <td>8</td>\n",
              "      <td>1</td>\n",
              "      <td>82</td>\n",
              "      <td>0</td>\n",
              "      <td>0</td>\n",
              "      <td>0</td>\n",
              "      <td>14302</td>\n",
              "      <td>14384</td>\n",
              "      <td>4</td>\n",
              "      <td>ELEC</td>\n",
              "    </tr>\n",
              "    <tr>\n",
              "      <th>1</th>\n",
              "      <td>train_Client_0</td>\n",
              "      <td>2013-03-29</td>\n",
              "      <td>11</td>\n",
              "      <td>1335667</td>\n",
              "      <td>0</td>\n",
              "      <td>203</td>\n",
              "      <td>6</td>\n",
              "      <td>1</td>\n",
              "      <td>1200</td>\n",
              "      <td>184</td>\n",
              "      <td>0</td>\n",
              "      <td>0</td>\n",
              "      <td>12294</td>\n",
              "      <td>13678</td>\n",
              "      <td>4</td>\n",
              "      <td>ELEC</td>\n",
              "    </tr>\n",
              "    <tr>\n",
              "      <th>2</th>\n",
              "      <td>train_Client_0</td>\n",
              "      <td>2015-03-23</td>\n",
              "      <td>11</td>\n",
              "      <td>1335667</td>\n",
              "      <td>0</td>\n",
              "      <td>203</td>\n",
              "      <td>8</td>\n",
              "      <td>1</td>\n",
              "      <td>123</td>\n",
              "      <td>0</td>\n",
              "      <td>0</td>\n",
              "      <td>0</td>\n",
              "      <td>14624</td>\n",
              "      <td>14747</td>\n",
              "      <td>4</td>\n",
              "      <td>ELEC</td>\n",
              "    </tr>\n",
              "    <tr>\n",
              "      <th>3</th>\n",
              "      <td>train_Client_0</td>\n",
              "      <td>2015-07-13</td>\n",
              "      <td>11</td>\n",
              "      <td>1335667</td>\n",
              "      <td>0</td>\n",
              "      <td>207</td>\n",
              "      <td>8</td>\n",
              "      <td>1</td>\n",
              "      <td>102</td>\n",
              "      <td>0</td>\n",
              "      <td>0</td>\n",
              "      <td>0</td>\n",
              "      <td>14747</td>\n",
              "      <td>14849</td>\n",
              "      <td>4</td>\n",
              "      <td>ELEC</td>\n",
              "    </tr>\n",
              "    <tr>\n",
              "      <th>4</th>\n",
              "      <td>train_Client_0</td>\n",
              "      <td>2016-11-17</td>\n",
              "      <td>11</td>\n",
              "      <td>1335667</td>\n",
              "      <td>0</td>\n",
              "      <td>207</td>\n",
              "      <td>9</td>\n",
              "      <td>1</td>\n",
              "      <td>572</td>\n",
              "      <td>0</td>\n",
              "      <td>0</td>\n",
              "      <td>0</td>\n",
              "      <td>15066</td>\n",
              "      <td>15638</td>\n",
              "      <td>12</td>\n",
              "      <td>ELEC</td>\n",
              "    </tr>\n",
              "  </tbody>\n",
              "</table>\n",
              "</div>"
            ],
            "text/plain": [
              "        client_id invoice_date  tarif_type  counter_number counter_statue  \\\n",
              "0  train_Client_0   2014-03-24          11         1335667              0   \n",
              "1  train_Client_0   2013-03-29          11         1335667              0   \n",
              "2  train_Client_0   2015-03-23          11         1335667              0   \n",
              "3  train_Client_0   2015-07-13          11         1335667              0   \n",
              "4  train_Client_0   2016-11-17          11         1335667              0   \n",
              "\n",
              "   counter_code  reading_remarque  counter_coefficient  consommation_level_1  \\\n",
              "0           203                 8                    1                    82   \n",
              "1           203                 6                    1                  1200   \n",
              "2           203                 8                    1                   123   \n",
              "3           207                 8                    1                   102   \n",
              "4           207                 9                    1                   572   \n",
              "\n",
              "   consommation_level_2  consommation_level_3  consommation_level_4  \\\n",
              "0                     0                     0                     0   \n",
              "1                   184                     0                     0   \n",
              "2                     0                     0                     0   \n",
              "3                     0                     0                     0   \n",
              "4                     0                     0                     0   \n",
              "\n",
              "   old_index  new_index  months_number counter_type  \n",
              "0      14302      14384              4         ELEC  \n",
              "1      12294      13678              4         ELEC  \n",
              "2      14624      14747              4         ELEC  \n",
              "3      14747      14849              4         ELEC  \n",
              "4      15066      15638             12         ELEC  "
            ]
          },
          "execution_count": 7,
          "metadata": {},
          "output_type": "execute_result"
        }
      ],
      "source": [
        "#print top rows of dataset\n",
        "invoice_train.head()"
      ]
    },
    {
      "cell_type": "code",
      "execution_count": 8,
      "metadata": {
        "colab": {
          "base_uri": "https://localhost:8080/",
          "height": 206
        },
        "id": "jUcrU9IYSMZJ",
        "outputId": "e70e5da0-7451-48ca-8c3a-643524f3139c",
        "vscode": {
          "languageId": "powershell"
        }
      },
      "outputs": [
        {
          "data": {
            "text/html": [
              "<div>\n",
              "<style scoped>\n",
              "    .dataframe tbody tr th:only-of-type {\n",
              "        vertical-align: middle;\n",
              "    }\n",
              "\n",
              "    .dataframe tbody tr th {\n",
              "        vertical-align: top;\n",
              "    }\n",
              "\n",
              "    .dataframe thead th {\n",
              "        text-align: right;\n",
              "    }\n",
              "</style>\n",
              "<table border=\"1\" class=\"dataframe\">\n",
              "  <thead>\n",
              "    <tr style=\"text-align: right;\">\n",
              "      <th></th>\n",
              "      <th>disrict</th>\n",
              "      <th>client_id</th>\n",
              "      <th>client_catg</th>\n",
              "      <th>region</th>\n",
              "      <th>creation_date</th>\n",
              "      <th>target</th>\n",
              "    </tr>\n",
              "  </thead>\n",
              "  <tbody>\n",
              "    <tr>\n",
              "      <th>0</th>\n",
              "      <td>60</td>\n",
              "      <td>train_Client_0</td>\n",
              "      <td>11</td>\n",
              "      <td>101</td>\n",
              "      <td>31/12/1994</td>\n",
              "      <td>0.0</td>\n",
              "    </tr>\n",
              "    <tr>\n",
              "      <th>1</th>\n",
              "      <td>69</td>\n",
              "      <td>train_Client_1</td>\n",
              "      <td>11</td>\n",
              "      <td>107</td>\n",
              "      <td>29/05/2002</td>\n",
              "      <td>0.0</td>\n",
              "    </tr>\n",
              "    <tr>\n",
              "      <th>2</th>\n",
              "      <td>62</td>\n",
              "      <td>train_Client_10</td>\n",
              "      <td>11</td>\n",
              "      <td>301</td>\n",
              "      <td>13/03/1986</td>\n",
              "      <td>0.0</td>\n",
              "    </tr>\n",
              "    <tr>\n",
              "      <th>3</th>\n",
              "      <td>69</td>\n",
              "      <td>train_Client_100</td>\n",
              "      <td>11</td>\n",
              "      <td>105</td>\n",
              "      <td>11/07/1996</td>\n",
              "      <td>0.0</td>\n",
              "    </tr>\n",
              "    <tr>\n",
              "      <th>4</th>\n",
              "      <td>62</td>\n",
              "      <td>train_Client_1000</td>\n",
              "      <td>11</td>\n",
              "      <td>303</td>\n",
              "      <td>14/10/2014</td>\n",
              "      <td>0.0</td>\n",
              "    </tr>\n",
              "  </tbody>\n",
              "</table>\n",
              "</div>"
            ],
            "text/plain": [
              "   disrict          client_id  client_catg  region creation_date  target\n",
              "0       60     train_Client_0           11     101    31/12/1994     0.0\n",
              "1       69     train_Client_1           11     107    29/05/2002     0.0\n",
              "2       62    train_Client_10           11     301    13/03/1986     0.0\n",
              "3       69   train_Client_100           11     105    11/07/1996     0.0\n",
              "4       62  train_Client_1000           11     303    14/10/2014     0.0"
            ]
          },
          "execution_count": 8,
          "metadata": {},
          "output_type": "execute_result"
        }
      ],
      "source": [
        "#print top rows of dataset\n",
        "client_train.head()"
      ]
    },
    {
      "cell_type": "code",
      "execution_count": 9,
      "metadata": {
        "colab": {
          "base_uri": "https://localhost:8080/",
          "height": 300
        },
        "id": "fFBTeG8YSicC",
        "outputId": "551f42dc-8b1c-42a9-9a60-f6dc9279911b",
        "vscode": {
          "languageId": "powershell"
        }
      },
      "outputs": [
        {
          "data": {
            "text/html": [
              "<div>\n",
              "<style scoped>\n",
              "    .dataframe tbody tr th:only-of-type {\n",
              "        vertical-align: middle;\n",
              "    }\n",
              "\n",
              "    .dataframe tbody tr th {\n",
              "        vertical-align: top;\n",
              "    }\n",
              "\n",
              "    .dataframe thead th {\n",
              "        text-align: right;\n",
              "    }\n",
              "</style>\n",
              "<table border=\"1\" class=\"dataframe\">\n",
              "  <thead>\n",
              "    <tr style=\"text-align: right;\">\n",
              "      <th></th>\n",
              "      <th>tarif_type</th>\n",
              "      <th>counter_number</th>\n",
              "      <th>counter_code</th>\n",
              "      <th>reading_remarque</th>\n",
              "      <th>counter_coefficient</th>\n",
              "      <th>consommation_level_1</th>\n",
              "      <th>consommation_level_2</th>\n",
              "      <th>consommation_level_3</th>\n",
              "      <th>consommation_level_4</th>\n",
              "      <th>old_index</th>\n",
              "      <th>new_index</th>\n",
              "      <th>months_number</th>\n",
              "    </tr>\n",
              "  </thead>\n",
              "  <tbody>\n",
              "    <tr>\n",
              "      <th>count</th>\n",
              "      <td>4.476749e+06</td>\n",
              "      <td>4.476749e+06</td>\n",
              "      <td>4.476749e+06</td>\n",
              "      <td>4.476749e+06</td>\n",
              "      <td>4.476749e+06</td>\n",
              "      <td>4.476749e+06</td>\n",
              "      <td>4.476749e+06</td>\n",
              "      <td>4.476749e+06</td>\n",
              "      <td>4.476749e+06</td>\n",
              "      <td>4.476749e+06</td>\n",
              "      <td>4.476749e+06</td>\n",
              "      <td>4.476749e+06</td>\n",
              "    </tr>\n",
              "    <tr>\n",
              "      <th>mean</th>\n",
              "      <td>2.012804e+01</td>\n",
              "      <td>1.230587e+11</td>\n",
              "      <td>1.724884e+02</td>\n",
              "      <td>7.321702e+00</td>\n",
              "      <td>1.003040e+00</td>\n",
              "      <td>4.109795e+02</td>\n",
              "      <td>1.093225e+02</td>\n",
              "      <td>2.030620e+01</td>\n",
              "      <td>5.292588e+01</td>\n",
              "      <td>1.776700e+04</td>\n",
              "      <td>1.834970e+04</td>\n",
              "      <td>4.483095e+01</td>\n",
              "    </tr>\n",
              "    <tr>\n",
              "      <th>std</th>\n",
              "      <td>1.347256e+01</td>\n",
              "      <td>1.657267e+12</td>\n",
              "      <td>1.338871e+02</td>\n",
              "      <td>1.571654e+00</td>\n",
              "      <td>3.083466e-01</td>\n",
              "      <td>7.573080e+02</td>\n",
              "      <td>1.220123e+03</td>\n",
              "      <td>1.574239e+02</td>\n",
              "      <td>8.754725e+02</td>\n",
              "      <td>4.036693e+04</td>\n",
              "      <td>4.095321e+04</td>\n",
              "      <td>3.128335e+03</td>\n",
              "    </tr>\n",
              "    <tr>\n",
              "      <th>min</th>\n",
              "      <td>8.000000e+00</td>\n",
              "      <td>0.000000e+00</td>\n",
              "      <td>0.000000e+00</td>\n",
              "      <td>5.000000e+00</td>\n",
              "      <td>0.000000e+00</td>\n",
              "      <td>0.000000e+00</td>\n",
              "      <td>0.000000e+00</td>\n",
              "      <td>0.000000e+00</td>\n",
              "      <td>0.000000e+00</td>\n",
              "      <td>0.000000e+00</td>\n",
              "      <td>0.000000e+00</td>\n",
              "      <td>0.000000e+00</td>\n",
              "    </tr>\n",
              "    <tr>\n",
              "      <th>25%</th>\n",
              "      <td>1.100000e+01</td>\n",
              "      <td>1.211080e+05</td>\n",
              "      <td>5.000000e+00</td>\n",
              "      <td>6.000000e+00</td>\n",
              "      <td>1.000000e+00</td>\n",
              "      <td>7.900000e+01</td>\n",
              "      <td>0.000000e+00</td>\n",
              "      <td>0.000000e+00</td>\n",
              "      <td>0.000000e+00</td>\n",
              "      <td>1.791000e+03</td>\n",
              "      <td>2.056000e+03</td>\n",
              "      <td>4.000000e+00</td>\n",
              "    </tr>\n",
              "    <tr>\n",
              "      <th>50%</th>\n",
              "      <td>1.100000e+01</td>\n",
              "      <td>4.945610e+05</td>\n",
              "      <td>2.030000e+02</td>\n",
              "      <td>8.000000e+00</td>\n",
              "      <td>1.000000e+00</td>\n",
              "      <td>2.740000e+02</td>\n",
              "      <td>0.000000e+00</td>\n",
              "      <td>0.000000e+00</td>\n",
              "      <td>0.000000e+00</td>\n",
              "      <td>7.690000e+03</td>\n",
              "      <td>8.192000e+03</td>\n",
              "      <td>4.000000e+00</td>\n",
              "    </tr>\n",
              "    <tr>\n",
              "      <th>75%</th>\n",
              "      <td>4.000000e+01</td>\n",
              "      <td>1.115161e+06</td>\n",
              "      <td>2.070000e+02</td>\n",
              "      <td>9.000000e+00</td>\n",
              "      <td>1.000000e+00</td>\n",
              "      <td>6.000000e+02</td>\n",
              "      <td>0.000000e+00</td>\n",
              "      <td>0.000000e+00</td>\n",
              "      <td>0.000000e+00</td>\n",
              "      <td>2.166000e+04</td>\n",
              "      <td>2.234300e+04</td>\n",
              "      <td>4.000000e+00</td>\n",
              "    </tr>\n",
              "    <tr>\n",
              "      <th>max</th>\n",
              "      <td>4.500000e+01</td>\n",
              "      <td>2.798115e+13</td>\n",
              "      <td>6.000000e+02</td>\n",
              "      <td>4.130000e+02</td>\n",
              "      <td>5.000000e+01</td>\n",
              "      <td>9.999100e+05</td>\n",
              "      <td>9.990730e+05</td>\n",
              "      <td>6.449200e+04</td>\n",
              "      <td>5.479460e+05</td>\n",
              "      <td>2.800280e+06</td>\n",
              "      <td>2.870972e+06</td>\n",
              "      <td>6.366240e+05</td>\n",
              "    </tr>\n",
              "  </tbody>\n",
              "</table>\n",
              "</div>"
            ],
            "text/plain": [
              "         tarif_type  counter_number  counter_code  reading_remarque  \\\n",
              "count  4.476749e+06    4.476749e+06  4.476749e+06      4.476749e+06   \n",
              "mean   2.012804e+01    1.230587e+11  1.724884e+02      7.321702e+00   \n",
              "std    1.347256e+01    1.657267e+12  1.338871e+02      1.571654e+00   \n",
              "min    8.000000e+00    0.000000e+00  0.000000e+00      5.000000e+00   \n",
              "25%    1.100000e+01    1.211080e+05  5.000000e+00      6.000000e+00   \n",
              "50%    1.100000e+01    4.945610e+05  2.030000e+02      8.000000e+00   \n",
              "75%    4.000000e+01    1.115161e+06  2.070000e+02      9.000000e+00   \n",
              "max    4.500000e+01    2.798115e+13  6.000000e+02      4.130000e+02   \n",
              "\n",
              "       counter_coefficient  consommation_level_1  consommation_level_2  \\\n",
              "count         4.476749e+06          4.476749e+06          4.476749e+06   \n",
              "mean          1.003040e+00          4.109795e+02          1.093225e+02   \n",
              "std           3.083466e-01          7.573080e+02          1.220123e+03   \n",
              "min           0.000000e+00          0.000000e+00          0.000000e+00   \n",
              "25%           1.000000e+00          7.900000e+01          0.000000e+00   \n",
              "50%           1.000000e+00          2.740000e+02          0.000000e+00   \n",
              "75%           1.000000e+00          6.000000e+02          0.000000e+00   \n",
              "max           5.000000e+01          9.999100e+05          9.990730e+05   \n",
              "\n",
              "       consommation_level_3  consommation_level_4     old_index     new_index  \\\n",
              "count          4.476749e+06          4.476749e+06  4.476749e+06  4.476749e+06   \n",
              "mean           2.030620e+01          5.292588e+01  1.776700e+04  1.834970e+04   \n",
              "std            1.574239e+02          8.754725e+02  4.036693e+04  4.095321e+04   \n",
              "min            0.000000e+00          0.000000e+00  0.000000e+00  0.000000e+00   \n",
              "25%            0.000000e+00          0.000000e+00  1.791000e+03  2.056000e+03   \n",
              "50%            0.000000e+00          0.000000e+00  7.690000e+03  8.192000e+03   \n",
              "75%            0.000000e+00          0.000000e+00  2.166000e+04  2.234300e+04   \n",
              "max            6.449200e+04          5.479460e+05  2.800280e+06  2.870972e+06   \n",
              "\n",
              "       months_number  \n",
              "count   4.476749e+06  \n",
              "mean    4.483095e+01  \n",
              "std     3.128335e+03  \n",
              "min     0.000000e+00  \n",
              "25%     4.000000e+00  \n",
              "50%     4.000000e+00  \n",
              "75%     4.000000e+00  \n",
              "max     6.366240e+05  "
            ]
          },
          "execution_count": 9,
          "metadata": {},
          "output_type": "execute_result"
        }
      ],
      "source": [
        "#Get a summary for all numerical columns\n",
        "invoice_train.describe()"
      ]
    },
    {
      "cell_type": "code",
      "execution_count": 10,
      "metadata": {
        "colab": {
          "base_uri": "https://localhost:8080/",
          "height": 300
        },
        "id": "egcBZ2ysSkji",
        "outputId": "37102972-554b-4063-ce3b-14dae74b3540",
        "vscode": {
          "languageId": "powershell"
        }
      },
      "outputs": [
        {
          "data": {
            "text/html": [
              "<div>\n",
              "<style scoped>\n",
              "    .dataframe tbody tr th:only-of-type {\n",
              "        vertical-align: middle;\n",
              "    }\n",
              "\n",
              "    .dataframe tbody tr th {\n",
              "        vertical-align: top;\n",
              "    }\n",
              "\n",
              "    .dataframe thead th {\n",
              "        text-align: right;\n",
              "    }\n",
              "</style>\n",
              "<table border=\"1\" class=\"dataframe\">\n",
              "  <thead>\n",
              "    <tr style=\"text-align: right;\">\n",
              "      <th></th>\n",
              "      <th>disrict</th>\n",
              "      <th>client_catg</th>\n",
              "      <th>region</th>\n",
              "      <th>target</th>\n",
              "    </tr>\n",
              "  </thead>\n",
              "  <tbody>\n",
              "    <tr>\n",
              "      <th>count</th>\n",
              "      <td>135493.000000</td>\n",
              "      <td>135493.000000</td>\n",
              "      <td>135493.000000</td>\n",
              "      <td>135493.000000</td>\n",
              "    </tr>\n",
              "    <tr>\n",
              "      <th>mean</th>\n",
              "      <td>63.511222</td>\n",
              "      <td>11.512506</td>\n",
              "      <td>206.159809</td>\n",
              "      <td>0.055841</td>\n",
              "    </tr>\n",
              "    <tr>\n",
              "      <th>std</th>\n",
              "      <td>3.354400</td>\n",
              "      <td>4.423761</td>\n",
              "      <td>104.207044</td>\n",
              "      <td>0.229614</td>\n",
              "    </tr>\n",
              "    <tr>\n",
              "      <th>min</th>\n",
              "      <td>60.000000</td>\n",
              "      <td>11.000000</td>\n",
              "      <td>101.000000</td>\n",
              "      <td>0.000000</td>\n",
              "    </tr>\n",
              "    <tr>\n",
              "      <th>25%</th>\n",
              "      <td>62.000000</td>\n",
              "      <td>11.000000</td>\n",
              "      <td>103.000000</td>\n",
              "      <td>0.000000</td>\n",
              "    </tr>\n",
              "    <tr>\n",
              "      <th>50%</th>\n",
              "      <td>62.000000</td>\n",
              "      <td>11.000000</td>\n",
              "      <td>107.000000</td>\n",
              "      <td>0.000000</td>\n",
              "    </tr>\n",
              "    <tr>\n",
              "      <th>75%</th>\n",
              "      <td>69.000000</td>\n",
              "      <td>11.000000</td>\n",
              "      <td>307.000000</td>\n",
              "      <td>0.000000</td>\n",
              "    </tr>\n",
              "    <tr>\n",
              "      <th>max</th>\n",
              "      <td>69.000000</td>\n",
              "      <td>51.000000</td>\n",
              "      <td>399.000000</td>\n",
              "      <td>1.000000</td>\n",
              "    </tr>\n",
              "  </tbody>\n",
              "</table>\n",
              "</div>"
            ],
            "text/plain": [
              "             disrict    client_catg         region         target\n",
              "count  135493.000000  135493.000000  135493.000000  135493.000000\n",
              "mean       63.511222      11.512506     206.159809       0.055841\n",
              "std         3.354400       4.423761     104.207044       0.229614\n",
              "min        60.000000      11.000000     101.000000       0.000000\n",
              "25%        62.000000      11.000000     103.000000       0.000000\n",
              "50%        62.000000      11.000000     107.000000       0.000000\n",
              "75%        69.000000      11.000000     307.000000       0.000000\n",
              "max        69.000000      51.000000     399.000000       1.000000"
            ]
          },
          "execution_count": 10,
          "metadata": {},
          "output_type": "execute_result"
        }
      ],
      "source": [
        "#Get a summary for all numerical columns\n",
        "client_train.describe()"
      ]
    },
    {
      "cell_type": "code",
      "execution_count": 11,
      "metadata": {
        "colab": {
          "base_uri": "https://localhost:8080/"
        },
        "id": "-8gQmkajSnXs",
        "outputId": "fef429ad-2fd5-46e3-9d3b-32def757324c",
        "vscode": {
          "languageId": "powershell"
        }
      },
      "outputs": [
        {
          "name": "stdout",
          "output_type": "stream",
          "text": [
            "<class 'pandas.core.frame.DataFrame'>\n",
            "RangeIndex: 4476749 entries, 0 to 4476748\n",
            "Data columns (total 16 columns):\n",
            " #   Column                Dtype \n",
            "---  ------                ----- \n",
            " 0   client_id             object\n",
            " 1   invoice_date          object\n",
            " 2   tarif_type            int64 \n",
            " 3   counter_number        int64 \n",
            " 4   counter_statue        object\n",
            " 5   counter_code          int64 \n",
            " 6   reading_remarque      int64 \n",
            " 7   counter_coefficient   int64 \n",
            " 8   consommation_level_1  int64 \n",
            " 9   consommation_level_2  int64 \n",
            " 10  consommation_level_3  int64 \n",
            " 11  consommation_level_4  int64 \n",
            " 12  old_index             int64 \n",
            " 13  new_index             int64 \n",
            " 14  months_number         int64 \n",
            " 15  counter_type          object\n",
            "dtypes: int64(12), object(4)\n",
            "memory usage: 546.5+ MB\n"
          ]
        }
      ],
      "source": [
        "#Get concise information of each column in dataset\n",
        "invoice_train.info()"
      ]
    },
    {
      "cell_type": "code",
      "execution_count": 12,
      "metadata": {
        "vscode": {
          "languageId": "powershell"
        }
      },
      "outputs": [
        {
          "data": {
            "text/plain": [
              "counter_coefficient\n",
              "1     4475102\n",
              "2         886\n",
              "3         321\n",
              "40        197\n",
              "30        137\n",
              "0          46\n",
              "6          30\n",
              "4          12\n",
              "10          6\n",
              "20          3\n",
              "9           3\n",
              "50          2\n",
              "33          1\n",
              "5           1\n",
              "11          1\n",
              "8           1\n",
              "Name: count, dtype: int64"
            ]
          },
          "execution_count": 12,
          "metadata": {},
          "output_type": "execute_result"
        }
      ],
      "source": [
        "invoice_train['counter_coefficient'].value_counts()"
      ]
    },
    {
      "cell_type": "code",
      "execution_count": 13,
      "metadata": {
        "colab": {
          "base_uri": "https://localhost:8080/"
        },
        "id": "VII8aa8CSoed",
        "outputId": "330bd35b-fd37-422b-b718-c34d354661db",
        "vscode": {
          "languageId": "powershell"
        }
      },
      "outputs": [
        {
          "name": "stdout",
          "output_type": "stream",
          "text": [
            "<class 'pandas.core.frame.DataFrame'>\n",
            "RangeIndex: 135493 entries, 0 to 135492\n",
            "Data columns (total 6 columns):\n",
            " #   Column         Non-Null Count   Dtype  \n",
            "---  ------         --------------   -----  \n",
            " 0   disrict        135493 non-null  int64  \n",
            " 1   client_id      135493 non-null  object \n",
            " 2   client_catg    135493 non-null  int64  \n",
            " 3   region         135493 non-null  int64  \n",
            " 4   creation_date  135493 non-null  object \n",
            " 5   target         135493 non-null  float64\n",
            "dtypes: float64(1), int64(3), object(2)\n",
            "memory usage: 6.2+ MB\n"
          ]
        }
      ],
      "source": [
        "#Get concise information of each column in dataset\n",
        "client_train.info()"
      ]
    },
    {
      "cell_type": "code",
      "execution_count": 14,
      "metadata": {
        "colab": {
          "base_uri": "https://localhost:8080/"
        },
        "id": "iiJ3e_pFSOWg",
        "outputId": "d074cb2a-d009-471f-f124-466db367df68",
        "vscode": {
          "languageId": "powershell"
        }
      },
      "outputs": [
        {
          "name": "stdout",
          "output_type": "stream",
          "text": [
            "client_id - 135493\n",
            "invoice_date - 8275\n",
            "tarif_type - 17\n",
            "counter_number - 201893\n",
            "counter_statue - 12\n",
            "counter_code - 42\n",
            "reading_remarque - 8\n",
            "counter_coefficient - 16\n",
            "consommation_level_1 - 8295\n",
            "consommation_level_2 - 12576\n",
            "consommation_level_3 - 2253\n",
            "consommation_level_4 - 12075\n",
            "old_index - 155648\n",
            "new_index - 157980\n",
            "months_number - 1370\n",
            "counter_type - 2\n"
          ]
        }
      ],
      "source": [
        "#Getting unique values on the invoice train data\n",
        "for col in invoice_train.columns:\n",
        "    print(f\"{col} - {invoice_train[col].nunique()}\")"
      ]
    },
    {
      "cell_type": "code",
      "execution_count": 15,
      "metadata": {
        "colab": {
          "base_uri": "https://localhost:8080/"
        },
        "id": "uMC16gFETUAF",
        "outputId": "0e363f7b-35c4-45c2-c763-acf80585ef7c",
        "vscode": {
          "languageId": "powershell"
        }
      },
      "outputs": [
        {
          "name": "stdout",
          "output_type": "stream",
          "text": [
            "disrict - 4\n",
            "client_id - 135493\n",
            "client_catg - 3\n",
            "region - 25\n",
            "creation_date - 8088\n",
            "target - 2\n"
          ]
        }
      ],
      "source": [
        "#Getting unique values on the invoice train data\n",
        "for col in client_train.columns:\n",
        "    print(f\"{col} - {client_train[col].nunique()}\")"
      ]
    },
    {
      "cell_type": "code",
      "execution_count": 16,
      "metadata": {
        "colab": {
          "base_uri": "https://localhost:8080/"
        },
        "id": "h10LPXsfVHhu",
        "outputId": "332ac9e1-02e3-4a3a-a8d6-1c8d706b9601",
        "vscode": {
          "languageId": "powershell"
        }
      },
      "outputs": [
        {
          "data": {
            "text/plain": [
              "client_id               0\n",
              "invoice_date            0\n",
              "tarif_type              0\n",
              "counter_number          0\n",
              "counter_statue          0\n",
              "counter_code            0\n",
              "reading_remarque        0\n",
              "counter_coefficient     0\n",
              "consommation_level_1    0\n",
              "consommation_level_2    0\n",
              "consommation_level_3    0\n",
              "consommation_level_4    0\n",
              "old_index               0\n",
              "new_index               0\n",
              "months_number           0\n",
              "counter_type            0\n",
              "dtype: int64"
            ]
          },
          "execution_count": 16,
          "metadata": {},
          "output_type": "execute_result"
        }
      ],
      "source": [
        "#check for missing values\n",
        "invoice_train.isnull().sum()"
      ]
    },
    {
      "cell_type": "code",
      "execution_count": 17,
      "metadata": {
        "colab": {
          "base_uri": "https://localhost:8080/"
        },
        "id": "b3XyoiIbVO-b",
        "outputId": "9200e12f-66fd-43a4-edf4-daa1e1cfdd11",
        "vscode": {
          "languageId": "powershell"
        }
      },
      "outputs": [
        {
          "data": {
            "text/plain": [
              "disrict          0\n",
              "client_id        0\n",
              "client_catg      0\n",
              "region           0\n",
              "creation_date    0\n",
              "target           0\n",
              "dtype: int64"
            ]
          },
          "execution_count": 17,
          "metadata": {},
          "output_type": "execute_result"
        }
      ],
      "source": [
        "#check for missing values\n",
        "client_train.isnull().sum()"
      ]
    },
    {
      "cell_type": "markdown",
      "metadata": {
        "id": "i3oZLTnSVSOT"
      },
      "source": [
        "No missing values in train set"
      ]
    },
    {
      "cell_type": "code",
      "execution_count": 18,
      "metadata": {
        "colab": {
          "base_uri": "https://localhost:8080/",
          "height": 281
        },
        "id": "JOzSAlEWTR3j",
        "outputId": "97a46548-924e-44a4-9b85-e40d01979b99",
        "vscode": {
          "languageId": "powershell"
        }
      },
      "outputs": [
        {
          "data": {
            "image/png": "[encoded data removed]",
            "text/plain": [
              "<Figure size 640x480 with 1 Axes>"
            ]
          },
          "metadata": {},
          "output_type": "display_data"
        }
      ],
      "source": [
        "#Visualize fraudulent activities\n",
        "fraudactivities = client_train.groupby(['target'])['client_id'].count()\n",
        "plt.bar(x=fraudactivities.index, height=fraudactivities.values, tick_label = [0,1])\n",
        "plt.title('Fraud - Target Distribution')\n",
        "plt.show()"
      ]
    },
    {
      "cell_type": "markdown",
      "metadata": {
        "id": "fQb7RZf_Ufn9"
      },
      "source": [
        "Target is highly imbalanced with fewer cases of fraudulent activities"
      ]
    },
    {
      "cell_type": "code",
      "execution_count": 19,
      "metadata": {
        "vscode": {
          "languageId": "powershell"
        }
      },
      "outputs": [
        {
          "data": {
            "text/plain": [
              "target\n",
              "0.0    127927\n",
              "1.0      7566\n",
              "Name: client_id, dtype: int64"
            ]
          },
          "execution_count": 19,
          "metadata": {},
          "output_type": "execute_result"
        }
      ],
      "source": [
        "fraudactivities"
      ]
    },
    {
      "cell_type": "code",
      "execution_count": 20,
      "metadata": {
        "colab": {
          "base_uri": "https://localhost:8080/",
          "height": 545
        },
        "id": "v8G8BPgMUrVW",
        "outputId": "886941f9-3a90-48c2-ddac-75728bd7b935",
        "vscode": {
          "languageId": "powershell"
        }
      },
      "outputs": [
        {
          "data": {
            "image/png": "[encoded data removed]",
            "text/plain": [
              "<Figure size 640x480 with 1 Axes>"
            ]
          },
          "metadata": {},
          "output_type": "display_data"
        },
        {
          "data": {
            "image/png": "[encoded data removed]",
            "text/plain": [
              "<Figure size 640x480 with 1 Axes>"
            ]
          },
          "metadata": {},
          "output_type": "display_data"
        }
      ],
      "source": [
        "#Visualize client distribution across districts and regions\n",
        "for col in ['disrict','region']:\n",
        "    region = client_train.groupby([col])['client_id'].count()\n",
        "    plt.bar(x=region.index, height=region.values)\n",
        "    plt.title(col+' distribution')\n",
        "    plt.show()"
      ]
    },
    {
      "cell_type": "code",
      "execution_count": 21,
      "metadata": {
        "vscode": {
          "languageId": "powershell"
        }
      },
      "outputs": [
        {
          "data": {
            "image/png": "[encoded data removed]",
            "text/plain": [
              "<Figure size 640x480 with 2 Axes>"
            ]
          },
          "metadata": {},
          "output_type": "display_data"
        }
      ],
      "source": [
        "# generate graph for rbf kernel\n",
        "\n",
        "ages = np.linspace(client_train[[\"region\"]].min()-20,\n",
        "                   client_train[[\"region\"]].max(),\n",
        "                   500).reshape(-1, 1)\n",
        "gamma1 = 0.005\n",
        "\n",
        "rbf1 = rbf_kernel(ages, [[105]], gamma=gamma1)\n",
        "\n",
        "\n",
        "fig, ax1 = plt.subplots()\n",
        "\n",
        "ax1.set_xlabel(\"Housing median age\")\n",
        "ax1.set_ylabel(\"Number of districts\")\n",
        "ax1.hist(client_train[[\"region\"]], bins=50)\n",
        "\n",
        "ax2 = ax1.twinx()  # create a twin axis that shares the same x-axis\n",
        "color = \"blue\"\n",
        "ax2.plot(ages, rbf1, color=color, label=\"gamma = 0.005\")\n",
        "\n",
        "ax2.tick_params(axis='y', labelcolor=color)\n",
        "ax2.set_ylabel(\"Region similarity\", color=color)\n",
        "\n",
        "plt.legend(loc=\"upper left\")\n",
        "\n",
        "plt.show()"
      ]
    },
    {
      "cell_type": "markdown",
      "metadata": {
        "id": "0-LOrxdIU7-h"
      },
      "source": [
        "## Feature Engineering"
      ]
    },
    {
      "cell_type": "code",
      "execution_count": 22,
      "metadata": {
        "id": "aVypp4ahU9tq",
        "vscode": {
          "languageId": "powershell"
        }
      },
      "outputs": [],
      "source": [
        "#convert the column invoice_date to date time format on both the invoice train and invoice test\n",
        "for df in [invoice_train,invoice_test]:\n",
        "    df['invoice_date'] = pd.to_datetime(df['invoice_date'])"
      ]
    },
    {
      "cell_type": "code",
      "execution_count": 23,
      "metadata": {
        "id": "NldYnn0GWHAk",
        "vscode": {
          "languageId": "powershell"
        }
      },
      "outputs": [],
      "source": [
        "target = client_train['target']\n",
        "client_train = client_train.drop(columns=['target'])"
      ]
    },
    {
      "cell_type": "code",
      "execution_count": 24,
      "metadata": {
        "id": "Bt7LJHhyXJji",
        "vscode": {
          "languageId": "powershell"
        }
      },
      "outputs": [],
      "source": [
        "# This function aggregates the invoice data by client ID and merges it with the client data.\n",
        "# It calculates various statistics for different columns in the invoice data.\n",
        "# The input parameters are:\n",
        "# - client_data: The client data dataframe.\n",
        "# - invoice_data: The invoice data dataframe.\n",
        "# The function returns the merged dataframe.\n",
        "\n",
        "# feature on Invoice does not come in consistent pattern (3 invoices have back to back)\n",
        "# fruad people mess up counter/index --> eng features how much energy consumed since last time \n",
        "\n",
        "# consumption level (infrench) add all 4 levels \n",
        "\n",
        "\n",
        "#index is the number on the counter \n",
        "\n",
        "#if you substract these two and substract features (something is going on) --> take a difference btw them\n",
        "\n",
        "# old index new index and total consumption level\n",
        "\n",
        "\n",
        "# how many days elapse since last invoice; how much energy data they use on average \n",
        "# how many unique counter they have (17)\n",
        "\n",
        "# some values are way too large (some column just moved, copy paste); move these back \n",
        "\n",
        "\n",
        "# some test ID exist both in training and test set; --> email stephen \n",
        "\n",
        "def aggregate_by_client_id(client_data, invoice_data):\n",
        "        #feature total consumption levels vs index difference\n",
        "        invoice_data['consumption_diff'] = invoice_data[['consommation_level_1', 'consommation_level_2','consommation_level_3','consommation_level_4']].sum(axis=1) \n",
        "        -( invoice_data['new_index'] - invoice_data['old_index'])\n",
        "        \n",
        "        aggs = {}\n",
        "        aggs['invoice_date'] = ['min','max','count']\n",
        "        aggs['consumption_diff'] = ['sum','mean']\n",
        "        aggs['tarif_type'] = ['count']\n",
        "        aggs['reading_remarque'] = ['mean']\n",
        "        aggs['counter_statue'] = ['count']\n",
        "        aggs['counter_coefficient'] = ['mean']\n",
        "        aggs['consommation_level_1'] = ['mean','sum']\n",
        "        aggs['consommation_level_2'] = ['mean','sum']\n",
        "        aggs['consommation_level_3'] = ['mean','sum']\n",
        "        aggs['consommation_level_4'] = ['mean','sum']\n",
        "        # how many unique counters do they have\n",
        "        aggs['counter_number'] = ['nunique']\n",
        "        aggs['months_number'] = ['mean']\n",
        "        \n",
        "        # Group the invoice data by client ID and calculate the aggregated statistics\n",
        "        invoice_agg = invoice_data.groupby(['client_id']).agg(aggs)\n",
        "        \n",
        "        # Rename the columns of the aggregated dataframe\n",
        "        invoice_agg.columns = ['_'.join(col).strip() for col in invoice_agg.columns.values]\n",
        "        \n",
        "        # Reset the index of the aggregated dataframe\n",
        "        invoice_agg.reset_index(inplace=True)\n",
        "        \n",
        "        #add two features Frequency of the invoice;the energy consumption on average per day\n",
        "        invoice_agg[['invoice_date_max','invoice_date_min']] = invoice_agg[['invoice_date_max','invoice_date_min']].apply(pd.to_datetime)\n",
        "        invoice_agg['tenure_days']= (invoice_agg['invoice_date_max'] - invoice_agg['invoice_date_min']).dt.days\n",
        "\n",
        "        invoice_agg['invoice_freq'] = invoice_agg['tenure_days']/invoice_agg['invoice_date_count']\n",
        "        invoice_agg['consumption_sum'] = invoice_agg[['consommation_level_1_sum', 'consommation_level_2_sum','consommation_level_3_sum']].sum(axis=1)\n",
        "\n",
        "        #if tenure days is 0, keep it as it is, else divide by tenure days\n",
        "        invoice_agg['daily_consumption'] = invoice_agg.apply(lambda x: x['consumption_sum'] if x['tenure_days'] == 0 else x['consumption_sum']/x['tenure_days'], axis=1)\n",
        "\n",
        "        columns_to_drop = ['invoice_date_min', 'invoice_date_max', 'invoice_date_count', 'consommation_level_1_sum', 'consommation_level_2_sum', 'consommation_level_3_sum', \n",
        "        'consommation_level_4_sum', 'consumption_sum']\n",
        "        invoice_agg.drop(columns_to_drop, axis=1, inplace=True)\n",
        "\n",
        "        client_data['creation_date'] = pd.to_datetime(client_data['creation_date'])\n",
        "        client_data['creation_day_diff'] = (client_data['creation_date'] - pd.Timestamp(date.today())).dt.days.astype(int)\n",
        "\n",
        "\n",
        "        # Merge the aggregated invoice data with the client data\n",
        "        invoice_final = pd.merge(client_data, invoice_agg, on='client_id', how='left')\n",
        "\n",
        "        #drop two remaining cat features client_id column and creation_date\n",
        "        invoice_final.drop(['client_id', 'creation_date'], axis=1, inplace=True)\n",
        "        \n",
        "        # Return the merged dataframe\n",
        "        return invoice_final\n"
      ]
    },
    {
      "cell_type": "code",
      "execution_count": 25,
      "metadata": {
        "vscode": {
          "languageId": "powershell"
        }
      },
      "outputs": [],
      "source": [
        "agg_train = aggregate_by_client_id(client_train , invoice_train)\n",
        "agg_test = aggregate_by_client_id(client_test , invoice_test) "
      ]
    },
    {
      "cell_type": "code",
      "execution_count": 28,
      "metadata": {
        "vscode": {
          "languageId": "powershell"
        }
      },
      "outputs": [],
      "source": [
        "# create multiple features based on region values\n",
        "def rbf_transformer(Y):\n",
        "    return make_pipeline(\n",
        "        FunctionTransformer(rbf_kernel, kw_args=dict(Y=Y, gamma=0.1),feature_names_out=\"one-to-one\"),\n",
        "        StandardScaler()\n",
        "    )\n",
        "# def num_transformer():\n",
        "#     return make_pipeline(\n",
        "#             FunctionTransformer(lambda x: x.astype(int), validate=False)\n",
        "#         )\n",
        "\n",
        "\n",
        "\n",
        "\n",
        "preprocessing = ColumnTransformer([\n",
        " ('onehot', OneHotEncoder(handle_unknown=\"ignore\"), ['disrict']),\n",
        " (\"rbf_transformer_105\", rbf_transformer([[105]]), [\"region\"]),\n",
        " (\"rbf_transformer_305\", rbf_transformer([[305]]), [\"region\"]),\n",
        " (\"rbf_transformer_375\", rbf_transformer([[375]]), [\"region\"]),\n",
        " ], remainder=\"passthrough\")\n",
        "\n",
        "# client_train_preped = preprocessing.fit_transform(agg_train)\n",
        "\n",
        "# preprocessing.get_feature_names_out()"
      ]
    },
    {
      "cell_type": "markdown",
      "metadata": {
        "id": "iJ3KlVOCYfnZ"
      },
      "source": [
        "# Modelling"
      ]
    },
    {
      "cell_type": "code",
      "execution_count": 36,
      "metadata": {
        "vscode": {
          "languageId": "powershell"
        }
      },
      "outputs": [
        {
          "name": "stderr",
          "output_type": "stream",
          "text": [
            "2023-12-06 23:04:26,621 - INFO - Training Models...\n"
          ]
        }
      ],
      "source": [
        "logging.info(\"Training Models...\")"
      ]
    },
    {
      "cell_type": "code",
      "execution_count": 29,
      "metadata": {
        "vscode": {
          "languageId": "powershell"
        }
      },
      "outputs": [
        {
          "name": "stdout",
          "output_type": "stream",
          "text": [
            "[LightGBM] [Info] Number of positive: 7566, number of negative: 127927\n",
            "[LightGBM] [Info] Auto-choosing col-wise multi-threading, the overhead of testing was 0.010884 seconds.\n",
            "You can set `force_col_wise=true` to remove the overhead.\n",
            "[LightGBM] [Info] Total Bins 3606\n",
            "[LightGBM] [Info] Number of data points in the train set: 135493, number of used features: 24\n",
            "[LightGBM] [Info] [binary:BoostFromScore]: pavg=0.500000 -> initscore=0.000000\n",
            "[LightGBM] [Info] Start training from score 0.000000\n"
          ]
        },
        {
          "data": {
            "text/html": [
              "<style>#sk-container-id-1 {color: black;background-color: white;}#sk-container-id-1 pre{padding: 0;}#sk-container-id-1 div.sk-toggleable {background-color: white;}#sk-container-id-1 label.sk-toggleable__label {cursor: pointer;display: block;width: 100%;margin-bottom: 0;padding: 0.3em;box-sizing: border-box;text-align: center;}#sk-container-id-1 label.sk-toggleable__label-arrow:before {content: \"▸\";float: left;margin-right: 0.25em;color: #696969;}#sk-container-id-1 label.sk-toggleable__label-arrow:hover:before {color: black;}#sk-container-id-1 div.sk-estimator:hover label.sk-toggleable__label-arrow:before {color: black;}#sk-container-id-1 div.sk-toggleable__content {max-height: 0;max-width: 0;overflow: hidden;text-align: left;background-color: #f0f8ff;}#sk-container-id-1 div.sk-toggleable__content pre {margin: 0.2em;color: black;border-radius: 0.25em;background-color: #f0f8ff;}#sk-container-id-1 input.sk-toggleable__control:checked~div.sk-toggleable__content {max-height: 200px;max-width: 100%;overflow: auto;}#sk-container-id-1 input.sk-toggleable__control:checked~label.sk-toggleable__label-arrow:before {content: \"▾\";}#sk-container-id-1 div.sk-estimator input.sk-toggleable__control:checked~label.sk-toggleable__label {background-color: #d4ebff;}#sk-container-id-1 div.sk-label input.sk-toggleable__control:checked~label.sk-toggleable__label {background-color: #d4ebff;}#sk-container-id-1 input.sk-hidden--visually {border: 0;clip: rect(1px 1px 1px 1px);clip: rect(1px, 1px, 1px, 1px);height: 1px;margin: -1px;overflow: hidden;padding: 0;position: absolute;width: 1px;}#sk-container-id-1 div.sk-estimator {font-family: monospace;background-color: #f0f8ff;border: 1px dotted black;border-radius: 0.25em;box-sizing: border-box;margin-bottom: 0.5em;}#sk-container-id-1 div.sk-estimator:hover {background-color: #d4ebff;}#sk-container-id-1 div.sk-parallel-item::after {content: \"\";width: 100%;border-bottom: 1px solid gray;flex-grow: 1;}#sk-container-id-1 div.sk-label:hover label.sk-toggleable__label {background-color: #d4ebff;}#sk-container-id-1 div.sk-serial::before {content: \"\";position: absolute;border-left: 1px solid gray;box-sizing: border-box;top: 0;bottom: 0;left: 50%;z-index: 0;}#sk-container-id-1 div.sk-serial {display: flex;flex-direction: column;align-items: center;background-color: white;padding-right: 0.2em;padding-left: 0.2em;position: relative;}#sk-container-id-1 div.sk-item {position: relative;z-index: 1;}#sk-container-id-1 div.sk-parallel {display: flex;align-items: stretch;justify-content: center;background-color: white;position: relative;}#sk-container-id-1 div.sk-item::before, #sk-container-id-1 div.sk-parallel-item::before {content: \"\";position: absolute;border-left: 1px solid gray;box-sizing: border-box;top: 0;bottom: 0;left: 50%;z-index: -1;}#sk-container-id-1 div.sk-parallel-item {display: flex;flex-direction: column;z-index: 1;position: relative;background-color: white;}#sk-container-id-1 div.sk-parallel-item:first-child::after {align-self: flex-end;width: 50%;}#sk-container-id-1 div.sk-parallel-item:last-child::after {align-self: flex-start;width: 50%;}#sk-container-id-1 div.sk-parallel-item:only-child::after {width: 0;}#sk-container-id-1 div.sk-dashed-wrapped {border: 1px dashed gray;margin: 0 0.4em 0.5em 0.4em;box-sizing: border-box;padding-bottom: 0.4em;background-color: white;}#sk-container-id-1 div.sk-label label {font-family: monospace;font-weight: bold;display: inline-block;line-height: 1.2em;}#sk-container-id-1 div.sk-label-container {text-align: center;}#sk-container-id-1 div.sk-container {/* jupyter's `normalize.less` sets `[hidden] { display: none; }` but bootstrap.min.css set `[hidden] { display: none !important; }` so we also need the `!important` here to be able to override the default hidden behavior on the sphinx rendered scikit-learn.org. See: https://github.com/scikit-learn/scikit-learn/issues/21755 */display: inline-block !important;position: relative;}#sk-container-id-1 div.sk-text-repr-fallback {display: none;}</style><div id=\"sk-container-id-1\" class=\"sk-top-container\"><div class=\"sk-text-repr-fallback\"><pre>Pipeline(steps=[(&#x27;preprocessing&#x27;,\n",
              "                 ColumnTransformer(remainder=&#x27;passthrough&#x27;,\n",
              "                                   transformers=[(&#x27;onehot&#x27;,\n",
              "                                                  OneHotEncoder(handle_unknown=&#x27;ignore&#x27;),\n",
              "                                                  [&#x27;disrict&#x27;]),\n",
              "                                                 (&#x27;rbf_transformer_105&#x27;,\n",
              "                                                  Pipeline(steps=[(&#x27;functiontransformer&#x27;,\n",
              "                                                                   FunctionTransformer(feature_names_out=&#x27;one-to-one&#x27;,\n",
              "                                                                                       func=&lt;function rbf_kernel at 0x0000012722FB7B00&gt;,\n",
              "                                                                                       kw_args={&#x27;Y&#x27;: [[105]],\n",
              "                                                                                                &#x27;gamma&#x27;: 0.1})),\n",
              "                                                                  (&#x27;st...\n",
              "                                                                                                &#x27;gamma&#x27;: 0.1})),\n",
              "                                                                  (&#x27;standardscaler&#x27;,\n",
              "                                                                   StandardScaler())]),\n",
              "                                                  [&#x27;region&#x27;]),\n",
              "                                                 (&#x27;rbf_transformer_375&#x27;,\n",
              "                                                  Pipeline(steps=[(&#x27;functiontransformer&#x27;,\n",
              "                                                                   FunctionTransformer(feature_names_out=&#x27;one-to-one&#x27;,\n",
              "                                                                                       func=&lt;function rbf_kernel at 0x0000012722FB7B00&gt;,\n",
              "                                                                                       kw_args={&#x27;Y&#x27;: [[375]],\n",
              "                                                                                                &#x27;gamma&#x27;: 0.1})),\n",
              "                                                                  (&#x27;standardscaler&#x27;,\n",
              "                                                                   StandardScaler())]),\n",
              "                                                  [&#x27;region&#x27;])])),\n",
              "                (&#x27;model&#x27;, LGBMClassifier(class_weight=&#x27;balanced&#x27;))])</pre><b>In a Jupyter environment, please rerun this cell to show the HTML representation or trust the notebook. <br />On GitHub, the HTML representation is unable to render, please try loading this page with nbviewer.org.</b></div><div class=\"sk-container\" hidden><div class=\"sk-item sk-dashed-wrapped\"><div class=\"sk-label-container\"><div class=\"sk-label sk-toggleable\"><input class=\"sk-toggleable__control sk-hidden--visually\" id=\"sk-estimator-id-1\" type=\"checkbox\" ><label for=\"sk-estimator-id-1\" class=\"sk-toggleable__label sk-toggleable__label-arrow\">Pipeline</label><div class=\"sk-toggleable__content\"><pre>Pipeline(steps=[(&#x27;preprocessing&#x27;,\n",
              "                 ColumnTransformer(remainder=&#x27;passthrough&#x27;,\n",
              "                                   transformers=[(&#x27;onehot&#x27;,\n",
              "                                                  OneHotEncoder(handle_unknown=&#x27;ignore&#x27;),\n",
              "                                                  [&#x27;disrict&#x27;]),\n",
              "                                                 (&#x27;rbf_transformer_105&#x27;,\n",
              "                                                  Pipeline(steps=[(&#x27;functiontransformer&#x27;,\n",
              "                                                                   FunctionTransformer(feature_names_out=&#x27;one-to-one&#x27;,\n",
              "                                                                                       func=&lt;function rbf_kernel at 0x0000012722FB7B00&gt;,\n",
              "                                                                                       kw_args={&#x27;Y&#x27;: [[105]],\n",
              "                                                                                                &#x27;gamma&#x27;: 0.1})),\n",
              "                                                                  (&#x27;st...\n",
              "                                                                                                &#x27;gamma&#x27;: 0.1})),\n",
              "                                                                  (&#x27;standardscaler&#x27;,\n",
              "                                                                   StandardScaler())]),\n",
              "                                                  [&#x27;region&#x27;]),\n",
              "                                                 (&#x27;rbf_transformer_375&#x27;,\n",
              "                                                  Pipeline(steps=[(&#x27;functiontransformer&#x27;,\n",
              "                                                                   FunctionTransformer(feature_names_out=&#x27;one-to-one&#x27;,\n",
              "                                                                                       func=&lt;function rbf_kernel at 0x0000012722FB7B00&gt;,\n",
              "                                                                                       kw_args={&#x27;Y&#x27;: [[375]],\n",
              "                                                                                                &#x27;gamma&#x27;: 0.1})),\n",
              "                                                                  (&#x27;standardscaler&#x27;,\n",
              "                                                                   StandardScaler())]),\n",
              "                                                  [&#x27;region&#x27;])])),\n",
              "                (&#x27;model&#x27;, LGBMClassifier(class_weight=&#x27;balanced&#x27;))])</pre></div></div></div><div class=\"sk-serial\"><div class=\"sk-item sk-dashed-wrapped\"><div class=\"sk-label-container\"><div class=\"sk-label sk-toggleable\"><input class=\"sk-toggleable__control sk-hidden--visually\" id=\"sk-estimator-id-2\" type=\"checkbox\" ><label for=\"sk-estimator-id-2\" class=\"sk-toggleable__label sk-toggleable__label-arrow\">preprocessing: ColumnTransformer</label><div class=\"sk-toggleable__content\"><pre>ColumnTransformer(remainder=&#x27;passthrough&#x27;,\n",
              "                  transformers=[(&#x27;onehot&#x27;,\n",
              "                                 OneHotEncoder(handle_unknown=&#x27;ignore&#x27;),\n",
              "                                 [&#x27;disrict&#x27;]),\n",
              "                                (&#x27;rbf_transformer_105&#x27;,\n",
              "                                 Pipeline(steps=[(&#x27;functiontransformer&#x27;,\n",
              "                                                  FunctionTransformer(feature_names_out=&#x27;one-to-one&#x27;,\n",
              "                                                                      func=&lt;function rbf_kernel at 0x0000012722FB7B00&gt;,\n",
              "                                                                      kw_args={&#x27;Y&#x27;: [[105]],\n",
              "                                                                               &#x27;gamma&#x27;: 0.1})),\n",
              "                                                 (&#x27;standardscaler&#x27;,\n",
              "                                                  StandardScaler())])...\n",
              "                                                                      func=&lt;function rbf_kernel at 0x0000012722FB7B00&gt;,\n",
              "                                                                      kw_args={&#x27;Y&#x27;: [[305]],\n",
              "                                                                               &#x27;gamma&#x27;: 0.1})),\n",
              "                                                 (&#x27;standardscaler&#x27;,\n",
              "                                                  StandardScaler())]),\n",
              "                                 [&#x27;region&#x27;]),\n",
              "                                (&#x27;rbf_transformer_375&#x27;,\n",
              "                                 Pipeline(steps=[(&#x27;functiontransformer&#x27;,\n",
              "                                                  FunctionTransformer(feature_names_out=&#x27;one-to-one&#x27;,\n",
              "                                                                      func=&lt;function rbf_kernel at 0x0000012722FB7B00&gt;,\n",
              "                                                                      kw_args={&#x27;Y&#x27;: [[375]],\n",
              "                                                                               &#x27;gamma&#x27;: 0.1})),\n",
              "                                                 (&#x27;standardscaler&#x27;,\n",
              "                                                  StandardScaler())]),\n",
              "                                 [&#x27;region&#x27;])])</pre></div></div></div><div class=\"sk-parallel\"><div class=\"sk-parallel-item\"><div class=\"sk-item\"><div class=\"sk-label-container\"><div class=\"sk-label sk-toggleable\"><input class=\"sk-toggleable__control sk-hidden--visually\" id=\"sk-estimator-id-3\" type=\"checkbox\" ><label for=\"sk-estimator-id-3\" class=\"sk-toggleable__label sk-toggleable__label-arrow\">onehot</label><div class=\"sk-toggleable__content\"><pre>[&#x27;disrict&#x27;]</pre></div></div></div><div class=\"sk-serial\"><div class=\"sk-item\"><div class=\"sk-estimator sk-toggleable\"><input class=\"sk-toggleable__control sk-hidden--visually\" id=\"sk-estimator-id-4\" type=\"checkbox\" ><label for=\"sk-estimator-id-4\" class=\"sk-toggleable__label sk-toggleable__label-arrow\">OneHotEncoder</label><div class=\"sk-toggleable__content\"><pre>OneHotEncoder(handle_unknown=&#x27;ignore&#x27;)</pre></div></div></div></div></div></div><div class=\"sk-parallel-item\"><div class=\"sk-item\"><div class=\"sk-label-container\"><div class=\"sk-label sk-toggleable\"><input class=\"sk-toggleable__control sk-hidden--visually\" id=\"sk-estimator-id-5\" type=\"checkbox\" ><label for=\"sk-estimator-id-5\" class=\"sk-toggleable__label sk-toggleable__label-arrow\">rbf_transformer_105</label><div class=\"sk-toggleable__content\"><pre>[&#x27;region&#x27;]</pre></div></div></div><div class=\"sk-serial\"><div class=\"sk-item\"><div class=\"sk-serial\"><div class=\"sk-item\"><div class=\"sk-estimator sk-toggleable\"><input class=\"sk-toggleable__control sk-hidden--visually\" id=\"sk-estimator-id-6\" type=\"checkbox\" ><label for=\"sk-estimator-id-6\" class=\"sk-toggleable__label sk-toggleable__label-arrow\">FunctionTransformer</label><div class=\"sk-toggleable__content\"><pre>FunctionTransformer(feature_names_out=&#x27;one-to-one&#x27;,\n",
              "                    func=&lt;function rbf_kernel at 0x0000012722FB7B00&gt;,\n",
              "                    kw_args={&#x27;Y&#x27;: [[105]], &#x27;gamma&#x27;: 0.1})</pre></div></div></div><div class=\"sk-item\"><div class=\"sk-estimator sk-toggleable\"><input class=\"sk-toggleable__control sk-hidden--visually\" id=\"sk-estimator-id-7\" type=\"checkbox\" ><label for=\"sk-estimator-id-7\" class=\"sk-toggleable__label sk-toggleable__label-arrow\">StandardScaler</label><div class=\"sk-toggleable__content\"><pre>StandardScaler()</pre></div></div></div></div></div></div></div></div><div class=\"sk-parallel-item\"><div class=\"sk-item\"><div class=\"sk-label-container\"><div class=\"sk-label sk-toggleable\"><input class=\"sk-toggleable__control sk-hidden--visually\" id=\"sk-estimator-id-8\" type=\"checkbox\" ><label for=\"sk-estimator-id-8\" class=\"sk-toggleable__label sk-toggleable__label-arrow\">rbf_transformer_305</label><div class=\"sk-toggleable__content\"><pre>[&#x27;region&#x27;]</pre></div></div></div><div class=\"sk-serial\"><div class=\"sk-item\"><div class=\"sk-serial\"><div class=\"sk-item\"><div class=\"sk-estimator sk-toggleable\"><input class=\"sk-toggleable__control sk-hidden--visually\" id=\"sk-estimator-id-9\" type=\"checkbox\" ><label for=\"sk-estimator-id-9\" class=\"sk-toggleable__label sk-toggleable__label-arrow\">FunctionTransformer</label><div class=\"sk-toggleable__content\"><pre>FunctionTransformer(feature_names_out=&#x27;one-to-one&#x27;,\n",
              "                    func=&lt;function rbf_kernel at 0x0000012722FB7B00&gt;,\n",
              "                    kw_args={&#x27;Y&#x27;: [[305]], &#x27;gamma&#x27;: 0.1})</pre></div></div></div><div class=\"sk-item\"><div class=\"sk-estimator sk-toggleable\"><input class=\"sk-toggleable__control sk-hidden--visually\" id=\"sk-estimator-id-10\" type=\"checkbox\" ><label for=\"sk-estimator-id-10\" class=\"sk-toggleable__label sk-toggleable__label-arrow\">StandardScaler</label><div class=\"sk-toggleable__content\"><pre>StandardScaler()</pre></div></div></div></div></div></div></div></div><div class=\"sk-parallel-item\"><div class=\"sk-item\"><div class=\"sk-label-container\"><div class=\"sk-label sk-toggleable\"><input class=\"sk-toggleable__control sk-hidden--visually\" id=\"sk-estimator-id-11\" type=\"checkbox\" ><label for=\"sk-estimator-id-11\" class=\"sk-toggleable__label sk-toggleable__label-arrow\">rbf_transformer_375</label><div class=\"sk-toggleable__content\"><pre>[&#x27;region&#x27;]</pre></div></div></div><div class=\"sk-serial\"><div class=\"sk-item\"><div class=\"sk-serial\"><div class=\"sk-item\"><div class=\"sk-estimator sk-toggleable\"><input class=\"sk-toggleable__control sk-hidden--visually\" id=\"sk-estimator-id-12\" type=\"checkbox\" ><label for=\"sk-estimator-id-12\" class=\"sk-toggleable__label sk-toggleable__label-arrow\">FunctionTransformer</label><div class=\"sk-toggleable__content\"><pre>FunctionTransformer(feature_names_out=&#x27;one-to-one&#x27;,\n",
              "                    func=&lt;function rbf_kernel at 0x0000012722FB7B00&gt;,\n",
              "                    kw_args={&#x27;Y&#x27;: [[375]], &#x27;gamma&#x27;: 0.1})</pre></div></div></div><div class=\"sk-item\"><div class=\"sk-estimator sk-toggleable\"><input class=\"sk-toggleable__control sk-hidden--visually\" id=\"sk-estimator-id-13\" type=\"checkbox\" ><label for=\"sk-estimator-id-13\" class=\"sk-toggleable__label sk-toggleable__label-arrow\">StandardScaler</label><div class=\"sk-toggleable__content\"><pre>StandardScaler()</pre></div></div></div></div></div></div></div></div><div class=\"sk-parallel-item\"><div class=\"sk-item\"><div class=\"sk-label-container\"><div class=\"sk-label sk-toggleable\"><input class=\"sk-toggleable__control sk-hidden--visually\" id=\"sk-estimator-id-14\" type=\"checkbox\" ><label for=\"sk-estimator-id-14\" class=\"sk-toggleable__label sk-toggleable__label-arrow\">remainder</label><div class=\"sk-toggleable__content\"><pre>[&#x27;client_catg&#x27;, &#x27;creation_day_diff&#x27;, &#x27;consumption_diff_sum&#x27;, &#x27;consumption_diff_mean&#x27;, &#x27;tarif_type_count&#x27;, &#x27;reading_remarque_mean&#x27;, &#x27;counter_statue_count&#x27;, &#x27;counter_coefficient_mean&#x27;, &#x27;consommation_level_1_mean&#x27;, &#x27;consommation_level_2_mean&#x27;, &#x27;consommation_level_3_mean&#x27;, &#x27;consommation_level_4_mean&#x27;, &#x27;counter_number_nunique&#x27;, &#x27;months_number_mean&#x27;, &#x27;tenure_days&#x27;, &#x27;invoice_freq&#x27;, &#x27;daily_consumption&#x27;]</pre></div></div></div><div class=\"sk-serial\"><div class=\"sk-item\"><div class=\"sk-estimator sk-toggleable\"><input class=\"sk-toggleable__control sk-hidden--visually\" id=\"sk-estimator-id-15\" type=\"checkbox\" ><label for=\"sk-estimator-id-15\" class=\"sk-toggleable__label sk-toggleable__label-arrow\">passthrough</label><div class=\"sk-toggleable__content\"><pre>passthrough</pre></div></div></div></div></div></div></div></div><div class=\"sk-item\"><div class=\"sk-estimator sk-toggleable\"><input class=\"sk-toggleable__control sk-hidden--visually\" id=\"sk-estimator-id-16\" type=\"checkbox\" ><label for=\"sk-estimator-id-16\" class=\"sk-toggleable__label sk-toggleable__label-arrow\">LGBMClassifier</label><div class=\"sk-toggleable__content\"><pre>LGBMClassifier(class_weight=&#x27;balanced&#x27;)</pre></div></div></div></div></div></div></div>"
            ],
            "text/plain": [
              "Pipeline(steps=[('preprocessing',\n",
              "                 ColumnTransformer(remainder='passthrough',\n",
              "                                   transformers=[('onehot',\n",
              "                                                  OneHotEncoder(handle_unknown='ignore'),\n",
              "                                                  ['disrict']),\n",
              "                                                 ('rbf_transformer_105',\n",
              "                                                  Pipeline(steps=[('functiontransformer',\n",
              "                                                                   FunctionTransformer(feature_names_out='one-to-one',\n",
              "                                                                                       func=<function rbf_kernel at 0x0000012722FB7B00>,\n",
              "                                                                                       kw_args={'Y': [[105]],\n",
              "                                                                                                'gamma': 0.1})),\n",
              "                                                                  ('st...\n",
              "                                                                                                'gamma': 0.1})),\n",
              "                                                                  ('standardscaler',\n",
              "                                                                   StandardScaler())]),\n",
              "                                                  ['region']),\n",
              "                                                 ('rbf_transformer_375',\n",
              "                                                  Pipeline(steps=[('functiontransformer',\n",
              "                                                                   FunctionTransformer(feature_names_out='one-to-one',\n",
              "                                                                                       func=<function rbf_kernel at 0x0000012722FB7B00>,\n",
              "                                                                                       kw_args={'Y': [[375]],\n",
              "                                                                                                'gamma': 0.1})),\n",
              "                                                                  ('standardscaler',\n",
              "                                                                   StandardScaler())]),\n",
              "                                                  ['region'])])),\n",
              "                ('model', LGBMClassifier(class_weight='balanced'))])"
            ]
          },
          "execution_count": 29,
          "metadata": {},
          "output_type": "execute_result"
        }
      ],
      "source": [
        "#potential to change the k neighbours; sampling strategy \n",
        "\n",
        "light_GBM =ImPipeline([\n",
        "    ('preprocessing', preprocessing),\n",
        "    # ('smote', SMOTE(sampling_strategy = 0.3,random_state=42)),\n",
        "    \n",
        "    ('model', LGBMClassifier(boosting_type='gbdt',class_weight='balanced',))\n",
        "])\n",
        "light_GBM.fit(agg_train, target)"
      ]
    },
    {
      "cell_type": "code",
      "execution_count": 51,
      "metadata": {
        "vscode": {
          "languageId": "powershell"
        }
      },
      "outputs": [],
      "source": [
        "\n",
        "\n",
        "fraud_predictions = light_GBM.predict_proba(agg_test)\n",
        "\n",
        "\n",
        "fraud_predictions = fraud_predictions[:, 1]"
      ]
    },
    {
      "cell_type": "markdown",
      "metadata": {},
      "source": [
        "## rf tuning"
      ]
    },
    {
      "cell_type": "code",
      "execution_count": 32,
      "metadata": {
        "vscode": {
          "languageId": "powershell"
        }
      },
      "outputs": [
        {
          "name": "stderr",
          "output_type": "stream",
          "text": [
            "[I 2023-12-09 23:19:03,817] A new study created in memory with name: no-name-4552aad9-599d-4c33-8168-75e141d44e9e\n",
            "[I 2023-12-09 23:25:22,108] Trial 0 finished with value: 0.8327351036390033 and parameters: {'max_samples': 0.625596999412947, 'min_samples_split': 25}. Best is trial 0 with value: 0.8327351036390033.\n",
            "[I 2023-12-09 23:31:07,082] Trial 1 finished with value: 0.8314430774107443 and parameters: {'max_samples': 0.5797588273690013, 'min_samples_split': 13}. Best is trial 0 with value: 0.8327351036390033.\n",
            "[I 2023-12-09 23:36:48,575] Trial 2 finished with value: 0.8332348803753422 and parameters: {'max_samples': 0.6265756203213676, 'min_samples_split': 38}. Best is trial 2 with value: 0.8332348803753422.\n",
            "[I 2023-12-09 23:42:18,416] Trial 3 finished with value: 0.8287221930463419 and parameters: {'max_samples': 0.5264055689883278, 'min_samples_split': 2}. Best is trial 2 with value: 0.8332348803753422.\n",
            "[I 2023-12-09 23:47:25,456] Trial 4 finished with value: 0.8333181140169144 and parameters: {'max_samples': 0.5710464308963694, 'min_samples_split': 95}. Best is trial 4 with value: 0.8333181140169144.\n",
            "[I 2023-12-09 23:54:19,351] Trial 5 finished with value: 0.8332967522206658 and parameters: {'max_samples': 0.5361702860653815, 'min_samples_split': 31}. Best is trial 4 with value: 0.8333181140169144.\n",
            "[I 2023-12-10 00:00:20,345] Trial 6 finished with value: 0.8335096221148623 and parameters: {'max_samples': 0.5464685392553343, 'min_samples_split': 98}. Best is trial 6 with value: 0.8335096221148623.\n",
            "[I 2023-12-10 00:05:47,972] Trial 7 finished with value: 0.8334993118981785 and parameters: {'max_samples': 0.5853527625431225, 'min_samples_split': 56}. Best is trial 6 with value: 0.8335096221148623.\n",
            "[I 2023-12-10 00:12:59,811] Trial 8 finished with value: 0.8335705689910646 and parameters: {'max_samples': 0.6640335473018316, 'min_samples_split': 98}. Best is trial 8 with value: 0.8335705689910646.\n",
            "[I 2023-12-10 00:19:25,864] Trial 9 finished with value: 0.8334007981996197 and parameters: {'max_samples': 0.5721199285244436, 'min_samples_split': 100}. Best is trial 8 with value: 0.8335705689910646.\n",
            "[I 2023-12-10 00:26:03,211] Trial 10 finished with value: 0.8336385775230809 and parameters: {'max_samples': 0.6893108569476168, 'min_samples_split': 71}. Best is trial 10 with value: 0.8336385775230809.\n",
            "[I 2023-12-10 00:33:02,661] Trial 11 finished with value: 0.8338923140107333 and parameters: {'max_samples': 0.6923515142718805, 'min_samples_split': 73}. Best is trial 11 with value: 0.8338923140107333.\n",
            "[I 2023-12-10 00:40:25,551] Trial 12 finished with value: 0.8336803568751096 and parameters: {'max_samples': 0.6991868833623712, 'min_samples_split': 69}. Best is trial 11 with value: 0.8338923140107333.\n",
            "[I 2023-12-10 00:47:30,220] Trial 13 finished with value: 0.8338550438245538 and parameters: {'max_samples': 0.6906110490520831, 'min_samples_split': 72}. Best is trial 11 with value: 0.8338923140107333.\n",
            "[I 2023-12-10 00:54:19,257] Trial 14 finished with value: 0.8337130220350992 and parameters: {'max_samples': 0.665147520900206, 'min_samples_split': 76}. Best is trial 11 with value: 0.8338923140107333.\n"
          ]
        },
        {
          "name": "stdout",
          "output_type": "stream",
          "text": [
            "{'max_samples': 0.6923515142718805, 'min_samples_split': 73}\n"
          ]
        }
      ],
      "source": [
        "\n",
        "\n",
        "def objective(trial,X,y):\n",
        "    # Define the hyperparameters to be optimized\n",
        "    max_samples = trial.suggest_float(\"max_samples\", 0.5, 0.7)  # Fraction of samples to be used for each tree\n",
        "    min_samples_split = trial.suggest_int(\"min_samples_split\", 2, 100)\n",
        "\n",
        "    # Create the pipeline with the suggested parameters\n",
        "    clf_rf = ImPipeline([\n",
        "        ('preprocessing', preprocessing),\n",
        "        # ('smote', SMOTE(sampling_strategy=0.3, random_state=42)),  # Adjust as needed\n",
        "        ('model', RandomForestClassifier(n_estimators=1000,\n",
        "                                             max_samples=max_samples, \n",
        "                                             min_samples_split=min_samples_split, \n",
        "                                             class_weight= 'balanced',\n",
        "                                             n_jobs=3,\n",
        "                                             random_state=42))\n",
        "    ])\n",
        "    \n",
        "    # # Fit the model\n",
        "    # clf_rf.fit(agg_train, target)\n",
        "    cv_scores = cross_val_score(clf_rf, X, y, cv=5, n_jobs=3, scoring=\"roc_auc\")\n",
        "    score = np.mean(cv_scores)\n",
        "    # scorestd = cv_scores.std()\n",
        "    return score  # Replace with appropriate metric\n",
        "\n",
        "# Create a study object and specify the direction is 'maximize'.\n",
        "study = optuna.create_study(direction='maximize')\n",
        "\n",
        "# Start the optimization\n",
        "study.optimize(lambda trial: objective(trial, agg_train, target), n_trials=15,  gc_after_trial=True)\n",
        "\n",
        "# Print the optimal parameters\n",
        "print(study.best_params)\n"
      ]
    },
    {
      "cell_type": "code",
      "execution_count": 33,
      "metadata": {
        "vscode": {
          "languageId": "powershell"
        }
      },
      "outputs": [
        {
          "data": {
            "text/plain": [
              "{'max_samples': 0.6923515142718805, 'min_samples_split': 73}"
            ]
          },
          "execution_count": 33,
          "metadata": {},
          "output_type": "execute_result"
        }
      ],
      "source": [
        "study.best_params"
      ]
    },
    {
      "cell_type": "code",
      "execution_count": 30,
      "metadata": {
        "vscode": {
          "languageId": "powershell"
        }
      },
      "outputs": [],
      "source": [
        "clf_rf = ImPipeline([\n",
        "        ('preprocessing', preprocessing),\n",
        "        # ('smote', SMOTE(sampling_strategy=0.3, random_state=42)),  # Adjust as needed\n",
        "        ('model', RandomForestClassifier(n_estimators=1000,\n",
        "                                            #  **study.best_params,\n",
        "                                            max_samples= 0.605199046299782, min_samples_split= 60,\n",
        "                                            class_weight='balanced',\n",
        "                                             n_jobs=-1,\n",
        "                                             random_state=42))\n",
        "    ])\n",
        "\n",
        "cv_scores = cross_val_score(clf_rf, agg_train, target, cv=5, n_jobs=-1, scoring=\"roc_auc\")\n",
        "# clf_rf.fit(agg_train, target)\n",
        "# fraud_predictions = clf_rf.predict_proba(agg_test)\n",
        "\n",
        "\n",
        "# fraud_predictions = fraud_predictions[:, 1]\n"
      ]
    },
    {
      "cell_type": "code",
      "execution_count": 31,
      "metadata": {
        "vscode": {
          "languageId": "powershell"
        }
      },
      "outputs": [
        {
          "data": {
            "text/plain": [
              "0.833139342536348"
            ]
          },
          "execution_count": 31,
          "metadata": {},
          "output_type": "execute_result"
        }
      ],
      "source": [
        "# cv_scores.mean()"
      ]
    },
    {
      "cell_type": "markdown",
      "metadata": {},
      "source": [
        "## Tune catboost"
      ]
    },
    {
      "cell_type": "code",
      "execution_count": 29,
      "metadata": {
        "vscode": {
          "languageId": "powershell"
        }
      },
      "outputs": [
        {
          "name": "stderr",
          "output_type": "stream",
          "text": [
            "[I 2023-12-10 01:18:35,605] A new study created in memory with name: no-name-ce741be0-c871-4841-8f78-6b4f4026ad70\n",
            "[I 2023-12-10 01:20:31,719] Trial 0 finished with value: 0.8316068805029962 and parameters: {'learning_rate': 0.04996675682411394, 'depth': 6, 'min_data_in_leaf': 41, 'max_bin': 206, 'l2_leaf_reg': 0.7609530273425635}. Best is trial 0 with value: 0.8316068805029962.\n",
            "[I 2023-12-10 01:23:12,527] Trial 1 finished with value: 0.8366238281893015 and parameters: {'learning_rate': 0.01850856810273159, 'depth': 8, 'min_data_in_leaf': 50, 'max_bin': 138, 'l2_leaf_reg': 3.2310132719792266}. Best is trial 1 with value: 0.8366238281893015.\n",
            "[I 2023-12-10 01:31:32,998] Trial 2 finished with value: 0.8104213827115234 and parameters: {'learning_rate': 0.04751776416001719, 'depth': 10, 'min_data_in_leaf': 13, 'max_bin': 228, 'l2_leaf_reg': 2.1005355138118675}. Best is trial 1 with value: 0.8366238281893015.\n",
            "[I 2023-12-10 01:38:54,445] Trial 3 finished with value: 0.7986777873976388 and parameters: {'learning_rate': 0.09718592518491789, 'depth': 10, 'min_data_in_leaf': 17, 'max_bin': 173, 'l2_leaf_reg': 2.824506638558077}. Best is trial 1 with value: 0.8366238281893015.\n",
            "[I 2023-12-10 01:41:21,231] Trial 4 finished with value: 0.8045625153148503 and parameters: {'learning_rate': 0.14532150679044456, 'depth': 7, 'min_data_in_leaf': 28, 'max_bin': 205, 'l2_leaf_reg': 2.0407652392934668}. Best is trial 1 with value: 0.8366238281893015.\n",
            "[I 2023-12-10 01:48:40,653] Trial 5 finished with value: 0.811383231195039 and parameters: {'learning_rate': 0.031522802125255205, 'depth': 10, 'min_data_in_leaf': 38, 'max_bin': 166, 'l2_leaf_reg': 0.8934290201348088}. Best is trial 1 with value: 0.8366238281893015.\n",
            "[I 2023-12-10 01:51:10,350] Trial 6 finished with value: 0.7930612701623232 and parameters: {'learning_rate': 0.23203206433961304, 'depth': 7, 'min_data_in_leaf': 28, 'max_bin': 221, 'l2_leaf_reg': 3.314963646669348}. Best is trial 1 with value: 0.8366238281893015.\n",
            "[I 2023-12-10 02:00:12,831] Trial 7 finished with value: 0.7898643851505367 and parameters: {'learning_rate': 0.1276412402279034, 'depth': 10, 'min_data_in_leaf': 50, 'max_bin': 255, 'l2_leaf_reg': 1.311111802960256}. Best is trial 1 with value: 0.8366238281893015.\n",
            "[I 2023-12-10 02:02:00,470] Trial 8 finished with value: 0.8360705384267918 and parameters: {'learning_rate': 0.013557576741280174, 'depth': 6, 'min_data_in_leaf': 9, 'max_bin': 111, 'l2_leaf_reg': 3.469020693553835}. Best is trial 1 with value: 0.8366238281893015.\n",
            "[I 2023-12-10 02:03:27,763] Trial 9 finished with value: 0.8367486816120066 and parameters: {'learning_rate': 0.058584568014347964, 'depth': 4, 'min_data_in_leaf': 35, 'max_bin': 164, 'l2_leaf_reg': 3.7188141293334076}. Best is trial 9 with value: 0.8367486816120066.\n",
            "[I 2023-12-10 02:05:09,402] Trial 10 finished with value: 0.8214533769267284 and parameters: {'learning_rate': 0.20758433971012374, 'depth': 4, 'min_data_in_leaf': 1, 'max_bin': 265, 'l2_leaf_reg': 4.932789028975318}. Best is trial 9 with value: 0.8367486816120066.\n",
            "[I 2023-12-10 02:09:21,494] Trial 11 finished with value: 0.7843454189380465 and parameters: {'learning_rate': 0.2929522997270294, 'depth': 8, 'min_data_in_leaf': 50, 'max_bin': 121, 'l2_leaf_reg': 3.9986227760601327}. Best is trial 9 with value: 0.8367486816120066.\n",
            "[I 2023-12-10 02:12:01,803] Trial 12 finished with value: 0.8358894272005355 and parameters: {'learning_rate': 0.0806205960227603, 'depth': 4, 'min_data_in_leaf': 39, 'max_bin': 151, 'l2_leaf_reg': 4.2338658587748075}. Best is trial 9 with value: 0.8367486816120066.\n",
            "[I 2023-12-10 02:15:25,720] Trial 13 finished with value: 0.8364045156466451 and parameters: {'learning_rate': 0.012366203910100293, 'depth': 8, 'min_data_in_leaf': 33, 'max_bin': 140, 'l2_leaf_reg': 2.796970804210332}. Best is trial 9 with value: 0.8367486816120066.\n",
            "[I 2023-12-10 02:18:25,747] Trial 14 finished with value: 0.8344999065602245 and parameters: {'learning_rate': 0.06683261618356075, 'depth': 5, 'min_data_in_leaf': 44, 'max_bin': 296, 'l2_leaf_reg': 3.4683115944355354}. Best is trial 9 with value: 0.8367486816120066.\n",
            "[I 2023-12-10 02:23:00,273] Trial 15 finished with value: 0.8135420432400648 and parameters: {'learning_rate': 0.09311738120233896, 'depth': 8, 'min_data_in_leaf': 20, 'max_bin': 171, 'l2_leaf_reg': 4.293059956551269}. Best is trial 9 with value: 0.8367486816120066.\n",
            "[I 2023-12-10 02:28:30,283] Trial 16 finished with value: 0.8168586474764833 and parameters: {'learning_rate': 0.04924890754393586, 'depth': 9, 'min_data_in_leaf': 32, 'max_bin': 133, 'l2_leaf_reg': 2.3466619543929665}. Best is trial 9 with value: 0.8367486816120066.\n",
            "[I 2023-12-10 02:30:18,525] Trial 17 finished with value: 0.827368282184346 and parameters: {'learning_rate': 0.10413207992313878, 'depth': 5, 'min_data_in_leaf': 44, 'max_bin': 105, 'l2_leaf_reg': 1.6131024532687774}. Best is trial 9 with value: 0.8367486816120066.\n",
            "[I 2023-12-10 02:32:14,832] Trial 18 finished with value: 0.8361627838168861 and parameters: {'learning_rate': 0.013891532445368933, 'depth': 6, 'min_data_in_leaf': 23, 'max_bin': 179, 'l2_leaf_reg': 2.968894490406746}. Best is trial 9 with value: 0.8367486816120066.\n",
            "[I 2023-12-10 02:36:05,670] Trial 19 finished with value: 0.7919173933327514 and parameters: {'learning_rate': 0.07046293128588538, 'depth': 9, 'min_data_in_leaf': 34, 'max_bin': 151, 'l2_leaf_reg': 0.3218515771347521}. Best is trial 9 with value: 0.8367486816120066.\n",
            "[I 2023-12-10 02:39:01,202] Trial 20 finished with value: 0.8263013654571181 and parameters: {'learning_rate': 0.12011177881392268, 'depth': 5, 'min_data_in_leaf': 44, 'max_bin': 190, 'l2_leaf_reg': 3.900384064790434}. Best is trial 9 with value: 0.8367486816120066.\n",
            "[I 2023-12-10 02:43:25,441] Trial 21 finished with value: 0.8324319880410762 and parameters: {'learning_rate': 0.028991261395961462, 'depth': 8, 'min_data_in_leaf': 33, 'max_bin': 145, 'l2_leaf_reg': 2.7299273066107967}. Best is trial 9 with value: 0.8367486816120066.\n",
            "[I 2023-12-10 02:48:52,644] Trial 22 finished with value: 0.835271630673032 and parameters: {'learning_rate': 0.01157167741053812, 'depth': 9, 'min_data_in_leaf': 36, 'max_bin': 130, 'l2_leaf_reg': 2.4380321090328385}. Best is trial 9 with value: 0.8367486816120066.\n",
            "[I 2023-12-10 02:51:50,383] Trial 23 finished with value: 0.8219369798605836 and parameters: {'learning_rate': 0.05725642415283019, 'depth': 8, 'min_data_in_leaf': 27, 'max_bin': 144, 'l2_leaf_reg': 3.1647064634293924}. Best is trial 9 with value: 0.8367486816120066.\n",
            "[I 2023-12-10 02:54:11,682] Trial 24 finished with value: 0.8327113396101288 and parameters: {'learning_rate': 0.03844016012385522, 'depth': 7, 'min_data_in_leaf': 31, 'max_bin': 157, 'l2_leaf_reg': 2.742328691274983}. Best is trial 9 with value: 0.8367486816120066.\n",
            "[I 2023-12-10 02:57:21,718] Trial 25 finished with value: 0.8088676216846125 and parameters: {'learning_rate': 0.07578513941542978, 'depth': 9, 'min_data_in_leaf': 23, 'max_bin': 122, 'l2_leaf_reg': 3.4657965563099267}. Best is trial 9 with value: 0.8367486816120066.\n",
            "[I 2023-12-10 02:59:45,828] Trial 26 finished with value: 0.8324257088471422 and parameters: {'learning_rate': 0.029447316336460888, 'depth': 8, 'min_data_in_leaf': 46, 'max_bin': 101, 'l2_leaf_reg': 3.0628897510859305}. Best is trial 9 with value: 0.8367486816120066.\n",
            "[I 2023-12-10 03:01:49,718] Trial 27 finished with value: 0.8254594344616761 and parameters: {'learning_rate': 0.06142511464684438, 'depth': 7, 'min_data_in_leaf': 40, 'max_bin': 134, 'l2_leaf_reg': 2.528758461856177}. Best is trial 9 with value: 0.8367486816120066.\n",
            "[I 2023-12-10 03:04:00,014] Trial 28 finished with value: 0.8363747851057413 and parameters: {'learning_rate': 0.012145235562015508, 'depth': 7, 'min_data_in_leaf': 48, 'max_bin': 188, 'l2_leaf_reg': 3.7948583167565353}. Best is trial 9 with value: 0.8367486816120066.\n",
            "[I 2023-12-10 03:05:52,197] Trial 29 finished with value: 0.8356092322183528 and parameters: {'learning_rate': 0.044290801774973, 'depth': 6, 'min_data_in_leaf': 42, 'max_bin': 161, 'l2_leaf_reg': 3.0572107064745517}. Best is trial 9 with value: 0.8367486816120066.\n",
            "[I 2023-12-10 03:07:33,793] Trial 30 finished with value: 0.8348514866988463 and parameters: {'learning_rate': 0.0876013090465393, 'depth': 4, 'min_data_in_leaf': 36, 'max_bin': 192, 'l2_leaf_reg': 3.5641769512897903}. Best is trial 9 with value: 0.8367486816120066.\n",
            "[I 2023-12-10 03:11:10,198] Trial 31 finished with value: 0.8366427832555537 and parameters: {'learning_rate': 0.02476915045645489, 'depth': 7, 'min_data_in_leaf': 48, 'max_bin': 179, 'l2_leaf_reg': 3.784135481896981}. Best is trial 9 with value: 0.8367486816120066.\n",
            "[I 2023-12-10 03:14:25,665] Trial 32 finished with value: 0.8345650586423444 and parameters: {'learning_rate': 0.047732017007859784, 'depth': 6, 'min_data_in_leaf': 47, 'max_bin': 223, 'l2_leaf_reg': 3.7736509709672212}. Best is trial 9 with value: 0.8367486816120066.\n",
            "[I 2023-12-10 03:18:55,966] Trial 33 finished with value: 0.8334631402742809 and parameters: {'learning_rate': 0.026805162789982365, 'depth': 8, 'min_data_in_leaf': 41, 'max_bin': 177, 'l2_leaf_reg': 3.262490303805554}. Best is trial 9 with value: 0.8367486816120066.\n",
            "[I 2023-12-10 03:25:07,198] Trial 34 finished with value: 0.8170735907017914 and parameters: {'learning_rate': 0.05078411568956165, 'depth': 9, 'min_data_in_leaf': 37, 'max_bin': 211, 'l2_leaf_reg': 2.887251950367001}. Best is trial 9 with value: 0.8367486816120066.\n",
            "[I 2023-12-10 03:27:54,670] Trial 35 finished with value: 0.837143994502173 and parameters: {'learning_rate': 0.0388340676980589, 'depth': 5, 'min_data_in_leaf': 15, 'max_bin': 141, 'l2_leaf_reg': 1.982879016118048}. Best is trial 35 with value: 0.837143994502173.\n",
            "[I 2023-12-10 03:30:42,086] Trial 36 finished with value: 0.8343733262777832 and parameters: {'learning_rate': 0.06418368350595485, 'depth': 5, 'min_data_in_leaf': 13, 'max_bin': 161, 'l2_leaf_reg': 2.014503605933973}. Best is trial 35 with value: 0.837143994502173.\n",
            "[I 2023-12-10 03:33:15,950] Trial 37 finished with value: 0.8362441461079879 and parameters: {'learning_rate': 0.03512010260595744, 'depth': 4, 'min_data_in_leaf': 15, 'max_bin': 205, 'l2_leaf_reg': 1.7962333930824586}. Best is trial 35 with value: 0.837143994502173.\n",
            "[I 2023-12-10 03:36:05,351] Trial 38 finished with value: 0.8319158153402795 and parameters: {'learning_rate': 0.07801279428498807, 'depth': 5, 'min_data_in_leaf': 8, 'max_bin': 117, 'l2_leaf_reg': 2.293898099929474}. Best is trial 35 with value: 0.837143994502173.\n",
            "[I 2023-12-10 03:37:52,075] Trial 39 finished with value: 0.8333423098834439 and parameters: {'learning_rate': 0.1066584806207445, 'depth': 4, 'min_data_in_leaf': 4, 'max_bin': 167, 'l2_leaf_reg': 4.33343513638186}. Best is trial 35 with value: 0.837143994502173.\n",
            "[I 2023-12-10 03:39:52,055] Trial 40 finished with value: 0.8338723893016837 and parameters: {'learning_rate': 0.04195853316476761, 'depth': 6, 'min_data_in_leaf': 17, 'max_bin': 183, 'l2_leaf_reg': 1.2689326750392622}. Best is trial 35 with value: 0.837143994502173.\n",
            "[I 2023-12-10 03:42:06,313] Trial 41 finished with value: 0.8367394300935265 and parameters: {'learning_rate': 0.02273871884387976, 'depth': 7, 'min_data_in_leaf': 24, 'max_bin': 143, 'l2_leaf_reg': 2.6354606853441096}. Best is trial 35 with value: 0.837143994502173.\n",
            "[I 2023-12-10 03:44:24,607] Trial 42 finished with value: 0.8357231646282927 and parameters: {'learning_rate': 0.029889239111748067, 'depth': 7, 'min_data_in_leaf': 24, 'max_bin': 153, 'l2_leaf_reg': 2.6122674092652756}. Best is trial 35 with value: 0.837143994502173.\n",
            "[I 2023-12-10 03:46:44,962] Trial 43 finished with value: 0.8281250762218546 and parameters: {'learning_rate': 0.05689151334941994, 'depth': 7, 'min_data_in_leaf': 20, 'max_bin': 130, 'l2_leaf_reg': 3.259030435317662}. Best is trial 35 with value: 0.837143994502173.\n",
            "[I 2023-12-10 03:48:19,989] Trial 44 finished with value: 0.8340545792667149 and parameters: {'learning_rate': 0.020067394849032857, 'depth': 4, 'min_data_in_leaf': 30, 'max_bin': 141, 'l2_leaf_reg': 2.245193440369672}. Best is trial 35 with value: 0.837143994502173.\n",
            "[I 2023-12-10 03:50:20,947] Trial 45 finished with value: 0.8365619344501724 and parameters: {'learning_rate': 0.036345479988110205, 'depth': 6, 'min_data_in_leaf': 9, 'max_bin': 241, 'l2_leaf_reg': 3.6227816724395963}. Best is trial 35 with value: 0.837143994502173.\n",
            "[I 2023-12-10 03:52:34,067] Trial 46 finished with value: 0.835947366831596 and parameters: {'learning_rate': 0.027439970266055613, 'depth': 7, 'min_data_in_leaf': 50, 'max_bin': 168, 'l2_leaf_reg': 2.53919996712383}. Best is trial 35 with value: 0.837143994502173.\n",
            "[I 2023-12-10 03:54:17,390] Trial 47 finished with value: 0.8364950913353141 and parameters: {'learning_rate': 0.05505742496786671, 'depth': 5, 'min_data_in_leaf': 19, 'max_bin': 112, 'l2_leaf_reg': 3.378045240880895}. Best is trial 35 with value: 0.837143994502173.\n",
            "[I 2023-12-10 04:00:05,321] Trial 48 finished with value: 0.8302603072686328 and parameters: {'learning_rate': 0.0202629008093744, 'depth': 10, 'min_data_in_leaf': 26, 'max_bin': 124, 'l2_leaf_reg': 4.097019422765277}. Best is trial 35 with value: 0.837143994502173.\n",
            "[I 2023-12-10 04:01:39,989] Trial 49 finished with value: 0.8349863830847729 and parameters: {'learning_rate': 0.08513603220955863, 'depth': 4, 'min_data_in_leaf': 13, 'max_bin': 148, 'l2_leaf_reg': 2.869038120742429}. Best is trial 35 with value: 0.837143994502173.\n",
            "[I 2023-12-10 04:03:41,874] Trial 50 finished with value: 0.8283785096814391 and parameters: {'learning_rate': 0.07014773380959585, 'depth': 6, 'min_data_in_leaf': 48, 'max_bin': 200, 'l2_leaf_reg': 1.9711055944141274}. Best is trial 35 with value: 0.837143994502173.\n",
            "[I 2023-12-10 04:05:50,243] Trial 51 finished with value: 0.8361814962452095 and parameters: {'learning_rate': 0.040020354861829366, 'depth': 6, 'min_data_in_leaf': 7, 'max_bin': 281, 'l2_leaf_reg': 3.5723524142886283}. Best is trial 35 with value: 0.837143994502173.\n",
            "[I 2023-12-10 04:08:36,062] Trial 52 finished with value: 0.837436691198499 and parameters: {'learning_rate': 0.02249829360987901, 'depth': 7, 'min_data_in_leaf': 9, 'max_bin': 238, 'l2_leaf_reg': 3.6901657015602245}. Best is trial 52 with value: 0.837436691198499.\n",
            "[I 2023-12-10 04:12:42,266] Trial 53 finished with value: 0.8369289277170096 and parameters: {'learning_rate': 0.023782328929935752, 'depth': 7, 'min_data_in_leaf': 5, 'max_bin': 246, 'l2_leaf_reg': 3.22690996972149}. Best is trial 52 with value: 0.837436691198499.\n",
            "[I 2023-12-10 04:16:43,055] Trial 54 finished with value: 0.8373034664895773 and parameters: {'learning_rate': 0.019285189846284818, 'depth': 7, 'min_data_in_leaf': 1, 'max_bin': 238, 'l2_leaf_reg': 3.1583473330562155}. Best is trial 52 with value: 0.837436691198499.\n",
            "[I 2023-12-10 04:20:46,475] Trial 55 finished with value: 0.8357275292422234 and parameters: {'learning_rate': 0.010574617172786993, 'depth': 7, 'min_data_in_leaf': 2, 'max_bin': 240, 'l2_leaf_reg': 3.1110253724175214}. Best is trial 52 with value: 0.837436691198499.\n",
            "[I 2023-12-10 04:24:55,097] Trial 56 finished with value: 0.831182339515572 and parameters: {'learning_rate': 0.04700338472303757, 'depth': 7, 'min_data_in_leaf': 4, 'max_bin': 264, 'l2_leaf_reg': 2.962034321090242}. Best is trial 52 with value: 0.837436691198499.\n",
            "[I 2023-12-10 04:29:51,067] Trial 57 finished with value: 0.8366365804124353 and parameters: {'learning_rate': 0.018670745962527473, 'depth': 8, 'min_data_in_leaf': 11, 'max_bin': 239, 'l2_leaf_reg': 3.381507932615164}. Best is trial 52 with value: 0.837436691198499.\n",
            "[I 2023-12-10 04:33:52,001] Trial 58 finished with value: 0.8330535965825867 and parameters: {'learning_rate': 0.036896439252342116, 'depth': 7, 'min_data_in_leaf': 6, 'max_bin': 251, 'l2_leaf_reg': 2.657386801309171}. Best is trial 52 with value: 0.837436691198499.\n",
            "[I 2023-12-10 04:37:24,992] Trial 59 finished with value: 0.8318525139024461 and parameters: {'learning_rate': 0.06158181663863123, 'depth': 6, 'min_data_in_leaf': 3, 'max_bin': 278, 'l2_leaf_reg': 3.2396099409390002}. Best is trial 52 with value: 0.837436691198499.\n",
            "[I 2023-12-10 04:40:23,437] Trial 60 finished with value: 0.8364053595357636 and parameters: {'learning_rate': 0.022271831610659838, 'depth': 5, 'min_data_in_leaf': 6, 'max_bin': 250, 'l2_leaf_reg': 2.417256032130172}. Best is trial 52 with value: 0.837436691198499.\n",
            "[I 2023-12-10 04:44:23,893] Trial 61 finished with value: 0.8367312263885622 and parameters: {'learning_rate': 0.024044394414798262, 'depth': 7, 'min_data_in_leaf': 10, 'max_bin': 230, 'l2_leaf_reg': 3.650387226432378}. Best is trial 52 with value: 0.837436691198499.\n",
            "[I 2023-12-10 04:49:15,535] Trial 62 finished with value: 0.8291870663207984 and parameters: {'learning_rate': 0.036764063654478915, 'depth': 8, 'min_data_in_leaf': 11, 'max_bin': 217, 'l2_leaf_reg': 3.100160813454817}. Best is trial 52 with value: 0.837436691198499.\n",
            "[I 2023-12-10 04:53:15,592] Trial 63 finished with value: 0.8299214125170448 and parameters: {'learning_rate': 0.049067438379004624, 'depth': 7, 'min_data_in_leaf': 9, 'max_bin': 231, 'l2_leaf_reg': 2.7638179964551024}. Best is trial 52 with value: 0.837436691198499.\n",
            "[I 2023-12-10 04:57:19,567] Trial 64 finished with value: 0.8361304207094289 and parameters: {'learning_rate': 0.01153113190663819, 'depth': 7, 'min_data_in_leaf': 11, 'max_bin': 233, 'l2_leaf_reg': 3.6808556431337336}. Best is trial 52 with value: 0.837436691198499.\n",
            "[I 2023-12-10 05:01:08,753] Trial 65 finished with value: 0.8367400259731221 and parameters: {'learning_rate': 0.024037628326740806, 'depth': 7, 'min_data_in_leaf': 5, 'max_bin': 224, 'l2_leaf_reg': 3.9419592063129003}. Best is trial 52 with value: 0.837436691198499.\n",
            "[I 2023-12-10 05:06:13,503] Trial 66 finished with value: 0.8327430381576167 and parameters: {'learning_rate': 0.031019487247976225, 'depth': 8, 'min_data_in_leaf': 2, 'max_bin': 259, 'l2_leaf_reg': 4.003681411785413}. Best is trial 52 with value: 0.837436691198499.\n",
            "[I 2023-12-10 05:09:03,703] Trial 67 finished with value: 0.8333100202225466 and parameters: {'learning_rate': 0.05311049775604053, 'depth': 6, 'min_data_in_leaf': 1, 'max_bin': 222, 'l2_leaf_reg': 3.458276340404524}. Best is trial 52 with value: 0.837436691198499.\n",
            "[I 2023-12-10 05:13:09,947] Trial 68 finished with value: 0.837061493667402 and parameters: {'learning_rate': 0.01880222120209797, 'depth': 7, 'min_data_in_leaf': 6, 'max_bin': 245, 'l2_leaf_reg': 2.9798392725418963}. Best is trial 52 with value: 0.837436691198499.\n",
            "[I 2023-12-10 05:16:22,033] Trial 69 finished with value: 0.8339970209344111 and parameters: {'learning_rate': 0.069156590211259, 'depth': 5, 'min_data_in_leaf': 5, 'max_bin': 274, 'l2_leaf_reg': 3.350107065255223}. Best is trial 52 with value: 0.837436691198499.\n",
            "[I 2023-12-10 05:19:25,151] Trial 70 finished with value: 0.8357012477656337 and parameters: {'learning_rate': 0.010267467251045458, 'depth': 7, 'min_data_in_leaf': 6, 'max_bin': 247, 'l2_leaf_reg': 4.186938604968554}. Best is trial 52 with value: 0.837436691198499.\n",
            "[I 2023-12-10 05:21:52,545] Trial 71 finished with value: 0.8367296372554207 and parameters: {'learning_rate': 0.022181411609290592, 'depth': 7, 'min_data_in_leaf': 15, 'max_bin': 244, 'l2_leaf_reg': 2.9391389021385987}. Best is trial 52 with value: 0.837436691198499.\n",
            "[I 2023-12-10 05:24:26,546] Trial 72 finished with value: 0.8331801805912914 and parameters: {'learning_rate': 0.03967173489739095, 'depth': 7, 'min_data_in_leaf': 4, 'max_bin': 256, 'l2_leaf_reg': 3.116676551156621}. Best is trial 52 with value: 0.837436691198499.\n",
            "[I 2023-12-10 05:26:35,245] Trial 73 finished with value: 0.8374576266076561 and parameters: {'learning_rate': 0.031629755128596115, 'depth': 6, 'min_data_in_leaf': 8, 'max_bin': 236, 'l2_leaf_reg': 3.8691826509302674}. Best is trial 73 with value: 0.8374576266076561.\n",
            "[I 2023-12-10 05:28:43,790] Trial 74 finished with value: 0.8356809631770374 and parameters: {'learning_rate': 0.0437626652548492, 'depth': 6, 'min_data_in_leaf': 8, 'max_bin': 216, 'l2_leaf_reg': 3.897950946433665}. Best is trial 73 with value: 0.8374576266076561.\n",
            "[I 2023-12-10 05:30:51,357] Trial 75 finished with value: 0.8371546295617959 and parameters: {'learning_rate': 0.03140536879209762, 'depth': 6, 'min_data_in_leaf': 1, 'max_bin': 236, 'l2_leaf_reg': 3.5151628908894788}. Best is trial 73 with value: 0.8374576266076561.\n",
            "[I 2023-12-10 05:32:45,173] Trial 76 finished with value: 0.8370132449439065 and parameters: {'learning_rate': 0.03188294186009448, 'depth': 5, 'min_data_in_leaf': 1, 'max_bin': 236, 'l2_leaf_reg': 3.534201419116635}. Best is trial 73 with value: 0.8374576266076561.\n",
            "[I 2023-12-10 05:34:39,246] Trial 77 finished with value: 0.8371642347227558 and parameters: {'learning_rate': 0.03050637550818969, 'depth': 5, 'min_data_in_leaf': 1, 'max_bin': 238, 'l2_leaf_reg': 3.546397074138035}. Best is trial 73 with value: 0.8374576266076561.\n",
            "[I 2023-12-10 05:36:51,156] Trial 78 finished with value: 0.8373061400338428 and parameters: {'learning_rate': 0.03288341814597287, 'depth': 5, 'min_data_in_leaf': 1, 'max_bin': 235, 'l2_leaf_reg': 3.508576880018586}. Best is trial 73 with value: 0.8374576266076561.\n",
            "[I 2023-12-10 05:40:00,130] Trial 79 finished with value: 0.8360171190348181 and parameters: {'learning_rate': 0.04744053689632312, 'depth': 5, 'min_data_in_leaf': 3, 'max_bin': 228, 'l2_leaf_reg': 3.754353463227782}. Best is trial 73 with value: 0.8374576266076561.\n",
            "[I 2023-12-10 05:43:10,773] Trial 80 finished with value: 0.83526461744726 and parameters: {'learning_rate': 0.01665904906641203, 'depth': 5, 'min_data_in_leaf': 1, 'max_bin': 263, 'l2_leaf_reg': 3.4229326093618657}. Best is trial 73 with value: 0.8374576266076561.\n",
            "[I 2023-12-10 05:46:22,954] Trial 81 finished with value: 0.8374547081621537 and parameters: {'learning_rate': 0.034244922468196215, 'depth': 5, 'min_data_in_leaf': 2, 'max_bin': 236, 'l2_leaf_reg': 3.60250233079903}. Best is trial 73 with value: 0.8374576266076561.\n",
            "[I 2023-12-10 05:49:32,504] Trial 82 finished with value: 0.8372504064366538 and parameters: {'learning_rate': 0.034648881862419365, 'depth': 5, 'min_data_in_leaf': 3, 'max_bin': 237, 'l2_leaf_reg': 3.8413341086805026}. Best is trial 73 with value: 0.8374576266076561.\n",
            "[I 2023-12-10 05:52:44,341] Trial 83 finished with value: 0.8373355657778732 and parameters: {'learning_rate': 0.03178018195222519, 'depth': 5, 'min_data_in_leaf': 3, 'max_bin': 235, 'l2_leaf_reg': 3.8154800240382545}. Best is trial 73 with value: 0.8374576266076561.\n",
            "[I 2023-12-10 05:55:53,432] Trial 84 finished with value: 0.8360476985905565 and parameters: {'learning_rate': 0.05749138515048905, 'depth': 5, 'min_data_in_leaf': 3, 'max_bin': 237, 'l2_leaf_reg': 3.8914557846485764}. Best is trial 73 with value: 0.8374576266076561.\n",
            "[I 2023-12-10 05:59:00,434] Trial 85 finished with value: 0.8371356129388785 and parameters: {'learning_rate': 0.03184526768748043, 'depth': 5, 'min_data_in_leaf': 2, 'max_bin': 215, 'l2_leaf_reg': 3.567153885802908}. Best is trial 73 with value: 0.8374576266076561.\n",
            "[I 2023-12-10 06:02:12,210] Trial 86 finished with value: 0.8361507828757787 and parameters: {'learning_rate': 0.05199469326288316, 'depth': 5, 'min_data_in_leaf': 3, 'max_bin': 225, 'l2_leaf_reg': 3.7514255751519503}. Best is trial 73 with value: 0.8374576266076561.\n",
            "[I 2023-12-10 06:05:24,147] Trial 87 finished with value: 0.8377086001073266 and parameters: {'learning_rate': 0.03308847301923811, 'depth': 5, 'min_data_in_leaf': 1, 'max_bin': 250, 'l2_leaf_reg': 4.0572360381723875}. Best is trial 87 with value: 0.8377086001073266.\n",
            "[I 2023-12-10 06:08:39,849] Trial 88 finished with value: 0.8351198053965607 and parameters: {'learning_rate': 0.06319063619733539, 'depth': 5, 'min_data_in_leaf': 7, 'max_bin': 256, 'l2_leaf_reg': 4.367773069418367}. Best is trial 87 with value: 0.8377086001073266.\n",
            "[I 2023-12-10 06:11:33,675] Trial 89 finished with value: 0.8370434302599328 and parameters: {'learning_rate': 0.043548072226182497, 'depth': 4, 'min_data_in_leaf': 3, 'max_bin': 209, 'l2_leaf_reg': 4.083775824029465}. Best is trial 87 with value: 0.8377086001073266.\n",
            "[I 2023-12-10 06:14:47,799] Trial 90 finished with value: 0.834587827465241 and parameters: {'learning_rate': 0.01552785149476437, 'depth': 5, 'min_data_in_leaf': 4, 'max_bin': 252, 'l2_leaf_reg': 3.8583025331717247}. Best is trial 87 with value: 0.8377086001073266.\n",
            "[I 2023-12-10 06:18:01,257] Trial 91 finished with value: 0.8372913419817849 and parameters: {'learning_rate': 0.02805842652391282, 'depth': 5, 'min_data_in_leaf': 1, 'max_bin': 236, 'l2_leaf_reg': 3.638269211232924}. Best is trial 87 with value: 0.8377086001073266.\n",
            "[I 2023-12-10 06:21:16,019] Trial 92 finished with value: 0.8373246420431352 and parameters: {'learning_rate': 0.03187554202807018, 'depth': 5, 'min_data_in_leaf': 2, 'max_bin': 270, 'l2_leaf_reg': 3.7769405599009755}. Best is trial 87 with value: 0.8377086001073266.\n",
            "[I 2023-12-10 06:24:31,272] Trial 93 finished with value: 0.836711801888373 and parameters: {'learning_rate': 0.04051669759769008, 'depth': 5, 'min_data_in_leaf': 2, 'max_bin': 270, 'l2_leaf_reg': 3.7110283002405944}. Best is trial 87 with value: 0.8377086001073266.\n",
            "[I 2023-12-10 06:27:25,316] Trial 94 finished with value: 0.8363566034137806 and parameters: {'learning_rate': 0.035059986736414105, 'depth': 4, 'min_data_in_leaf': 5, 'max_bin': 260, 'l2_leaf_reg': 4.001829369500821}. Best is trial 87 with value: 0.8377086001073266.\n",
            "[I 2023-12-10 06:30:40,620] Trial 95 finished with value: 0.8366774465075295 and parameters: {'learning_rate': 0.04575621045016158, 'depth': 5, 'min_data_in_leaf': 7, 'max_bin': 285, 'l2_leaf_reg': 3.8186407960507274}. Best is trial 87 with value: 0.8377086001073266.\n",
            "[I 2023-12-10 06:34:26,168] Trial 96 finished with value: 0.8373442510446971 and parameters: {'learning_rate': 0.02627369811850789, 'depth': 6, 'min_data_in_leaf': 2, 'max_bin': 293, 'l2_leaf_reg': 4.161422139291095}. Best is trial 87 with value: 0.8377086001073266.\n",
            "[I 2023-12-10 06:38:11,488] Trial 97 finished with value: 0.8370695579899525 and parameters: {'learning_rate': 0.01638119198918102, 'depth': 6, 'min_data_in_leaf': 2, 'max_bin': 296, 'l2_leaf_reg': 4.220760274650276}. Best is trial 87 with value: 0.8377086001073266.\n",
            "[I 2023-12-10 06:41:46,903] Trial 98 finished with value: 0.8370082510833555 and parameters: {'learning_rate': 0.02744966454278817, 'depth': 6, 'min_data_in_leaf': 4, 'max_bin': 229, 'l2_leaf_reg': 3.683095376942358}. Best is trial 87 with value: 0.8377086001073266.\n",
            "[I 2023-12-10 06:44:40,848] Trial 99 finished with value: 0.8323544099184487 and parameters: {'learning_rate': 0.016932953201423944, 'depth': 4, 'min_data_in_leaf': 2, 'max_bin': 293, 'l2_leaf_reg': 3.3213241630230708}. Best is trial 87 with value: 0.8377086001073266.\n"
          ]
        },
        {
          "name": "stdout",
          "output_type": "stream",
          "text": [
            "{'learning_rate': 0.03308847301923811, 'depth': 5, 'min_data_in_leaf': 1, 'max_bin': 250, 'l2_leaf_reg': 4.0572360381723875}\n"
          ]
        }
      ],
      "source": [
        "def objective(trial,X,y):\n",
        "    param = {\n",
        "        'learning_rate': trial.suggest_float('learning_rate', 0.01, 0.3),\n",
        "        'depth': trial.suggest_int('depth', 4, 10),  # CatBoost uses 'depth' instead of 'num_leaves'\n",
        "        'min_data_in_leaf': trial.suggest_int('min_data_in_leaf', 1, 50),\n",
        "        'max_bin': trial.suggest_int('max_bin', 100, 300),\n",
        "        'l2_leaf_reg': trial.suggest_float('l2_leaf_reg', 0, 5),  # Similar to 'lambda_l1' and 'lambda_l2'\n",
        "        # Fixed parameters\n",
        "        'iterations': 1000,\n",
        "        'loss_function': 'Logloss',\n",
        "        'eval_metric': 'AUC',\n",
        "        'auto_class_weights': 'Balanced',\n",
        "        'thread_count':4,\n",
        "        # Add other parameters as needed\n",
        "    }\n",
        "    cat_boost = ImPipeline([\n",
        "            ('preprocessing', preprocessing),\n",
        "            # ('smote', SMOTE(sampling_strategy=0.3, random_state=42)),  # Adjust as needed\n",
        "            ('model', CatBoostClassifier(**param))\n",
        "        ])\n",
        "\n",
        "    cv_scores = cross_val_score(cat_boost, X, y, cv=5, n_jobs=-1, scoring=\"roc_auc\")\n",
        "    score = np.mean(cv_scores)\n",
        "    return score\n",
        "\n",
        "# Create a study object and specify the direction is 'maximize'.\n",
        "study = optuna.create_study(direction='maximize')\n",
        "\n",
        "# Start the optimization\n",
        "study.optimize(lambda trial: objective(trial, agg_train, target), n_trials=100,  gc_after_trial=True)\n",
        "\n",
        "# Print the optimal parameters\n",
        "print(study.best_params)"
      ]
    },
    {
      "cell_type": "code",
      "execution_count": null,
      "metadata": {
        "vscode": {
          "languageId": "powershell"
        }
      },
      "outputs": [
        {
          "data": {
            "text/plain": [
              "{'learning_rate': 0.01977973649239961,\n",
              " 'depth': 5,\n",
              " 'min_data_in_leaf': 36,\n",
              " 'max_bin': 125,\n",
              " 'l2_leaf_reg': 1.1430941888323707}"
            ]
          },
          "execution_count": 31,
          "metadata": {},
          "output_type": "execute_result"
        }
      ],
      "source": [
        "study.best_params\n",
        "#best cv score is 0.8363991169354101"
      ]
    },
    {
      "cell_type": "code",
      "execution_count": 35,
      "metadata": {
        "vscode": {
          "languageId": "powershell"
        }
      },
      "outputs": [],
      "source": [
        "# Example parameter values\n",
        "param = {\n",
        "    'learning_rate': 0.1,  # Example fixed value\n",
        "    'max_depth': 6,            # Example fixed value\n",
        "    'min_data_in_leaf': 20,  # Example fixed value\n",
        "    'max_bin': 100,\n",
        "    'l2_leaf_reg': 3.0,    # Example fixed value\n",
        "    # You can add other CatBoost specific parameters here\n",
        "    'loss_function': 'Logloss',\n",
        "    'eval_metric': 'AUC',\n",
        "    'auto_class_weights': 'Balanced',\n",
        "    'iterations': 1000,\n",
        "    'thread_count':4,\n",
        "}\n",
        "\n",
        "\n",
        "# Example of using these parameters in CatBoostClassifier\n",
        "\n",
        "\n",
        "\n",
        "\n",
        "cat_boost = ImPipeline([\n",
        "        ('preprocessing', preprocessing),\n",
        "        # ('smote', SMOTE(sampling_strategy=0.3, random_state=42)),  # Adjust as needed\n",
        "        ('model', CatBoostClassifier(**param))\n",
        "    ])\n",
        "\n",
        "cv_scores = cross_val_score(cat_boost, agg_train, target, cv=5, n_jobs=-1, scoring=\"roc_auc\")"
      ]
    },
    {
      "cell_type": "code",
      "execution_count": 36,
      "metadata": {
        "vscode": {
          "languageId": "powershell"
        }
      },
      "outputs": [
        {
          "data": {
            "text/plain": [
              "array([0.82117265, 0.82673558, 0.83228168, 0.81556242, 0.82318387])"
            ]
          },
          "execution_count": 36,
          "metadata": {},
          "output_type": "execute_result"
        }
      ],
      "source": [
        "cv_scores"
      ]
    },
    {
      "cell_type": "code",
      "execution_count": 35,
      "metadata": {
        "vscode": {
          "languageId": "powershell"
        }
      },
      "outputs": [],
      "source": [
        "gradient_GBM =ImPipeline([\n",
        "    ('preprocessing', preprocessing),\n",
        "    ('smote', SMOTE(sampling_strategy = 0.3,random_state=42)),\n",
        "    ('model', GradientBoostingClassifier())\n",
        "])\n",
        "gradient_GBM.fit(agg_train, target)\n",
        "fraud_predictions = gradient_GBM.predict(agg_test)"
      ]
    },
    {
      "cell_type": "code",
      "execution_count": 38,
      "metadata": {
        "vscode": {
          "languageId": "powershell"
        }
      },
      "outputs": [],
      "source": [
        "xgboost_pipeline = ImPipeline([\n",
        "    ('preprocessing', preprocessing),\n",
        "    ('smote', SMOTE(sampling_strategy=0.3, random_state=42)),\n",
        "    ('model', xgb.XGBClassifier())\n",
        "])\n",
        "\n",
        "xgboost_pipeline.fit(agg_train, target)\n",
        "fraud_predictions = xgboost_pipeline.predict(agg_test)\n"
      ]
    },
    {
      "cell_type": "code",
      "execution_count": 52,
      "metadata": {
        "vscode": {
          "languageId": "powershell"
        }
      },
      "outputs": [
        {
          "data": {
            "text/html": [
              "<div>\n",
              "<style scoped>\n",
              "    .dataframe tbody tr th:only-of-type {\n",
              "        vertical-align: middle;\n",
              "    }\n",
              "\n",
              "    .dataframe tbody tr th {\n",
              "        vertical-align: top;\n",
              "    }\n",
              "\n",
              "    .dataframe thead th {\n",
              "        text-align: right;\n",
              "    }\n",
              "</style>\n",
              "<table border=\"1\" class=\"dataframe\">\n",
              "  <thead>\n",
              "    <tr style=\"text-align: right;\">\n",
              "      <th></th>\n",
              "      <th>client_id</th>\n",
              "      <th>target</th>\n",
              "    </tr>\n",
              "  </thead>\n",
              "  <tbody>\n",
              "    <tr>\n",
              "      <th>0</th>\n",
              "      <td>test_Client_0</td>\n",
              "      <td>0.292410</td>\n",
              "    </tr>\n",
              "    <tr>\n",
              "      <th>1</th>\n",
              "      <td>test_Client_1</td>\n",
              "      <td>0.779289</td>\n",
              "    </tr>\n",
              "    <tr>\n",
              "      <th>2</th>\n",
              "      <td>test_Client_10</td>\n",
              "      <td>0.308421</td>\n",
              "    </tr>\n",
              "    <tr>\n",
              "      <th>3</th>\n",
              "      <td>test_Client_100</td>\n",
              "      <td>0.117898</td>\n",
              "    </tr>\n",
              "    <tr>\n",
              "      <th>4</th>\n",
              "      <td>test_Client_1000</td>\n",
              "      <td>0.682901</td>\n",
              "    </tr>\n",
              "  </tbody>\n",
              "</table>\n",
              "</div>"
            ],
            "text/plain": [
              "          client_id    target\n",
              "0     test_Client_0  0.292410\n",
              "1     test_Client_1  0.779289\n",
              "2    test_Client_10  0.308421\n",
              "3   test_Client_100  0.117898\n",
              "4  test_Client_1000  0.682901"
            ]
          },
          "execution_count": 52,
          "metadata": {},
          "output_type": "execute_result"
        }
      ],
      "source": [
        "preds = pd.DataFrame(fraud_predictions, columns=['target'])\n",
        "preds.head()\n",
        "sub_client_id = client_test['client_id']\n",
        "submission = pd.DataFrame(\n",
        "    {\n",
        "        'client_id': sub_client_id,\n",
        "        'target': preds['target']\n",
        "    }\n",
        ")\n",
        "\n",
        "submission.head()"
      ]
    },
    {
      "cell_type": "code",
      "execution_count": 53,
      "metadata": {
        "vscode": {
          "languageId": "powershell"
        }
      },
      "outputs": [],
      "source": [
        "submission.to_csv(f'{OUTPUT_DIR}/submission_lightbgm_new_features.csv', index=False)"
      ]
    },
    {
      "cell_type": "markdown",
      "metadata": {
        "id": "d1qXp8jYY30X"
      },
      "source": [
        "## Train LGBM *Classifier* "
      ]
    },
    {
      "cell_type": "markdown",
      "metadata": {},
      "source": [
        "### the following code is to log MLflow"
      ]
    },
    {
      "cell_type": "code",
      "execution_count": 30,
      "metadata": {
        "id": "QTr8Wbu1ZKTM",
        "vscode": {
          "languageId": "powershell"
        }
      },
      "outputs": [],
      "source": [
        "# X = train.drop(columns=['target'])\n",
        "# y = train['target']"
      ]
    },
    {
      "cell_type": "markdown",
      "metadata": {},
      "source": [
        "### Train Test split"
      ]
    },
    {
      "cell_type": "code",
      "execution_count": 31,
      "metadata": {
        "vscode": {
          "languageId": "powershell"
        }
      },
      "outputs": [],
      "source": [
        "# # Split the data into training and testing sets\n",
        "# X_train, X_test, y_train, y_test = train_test_split(X, y, test_size=0.2, random_state=42)\n"
      ]
    },
    {
      "cell_type": "code",
      "execution_count": 35,
      "metadata": {
        "vscode": {
          "languageId": "powershell"
        }
      },
      "outputs": [
        {
          "name": "stdout",
          "output_type": "stream",
          "text": [
            "[LightGBM] [Info] Number of positive: 6002, number of negative: 102392\n",
            "[LightGBM] [Info] Auto-choosing row-wise multi-threading, the overhead of testing was 0.003900 seconds.\n",
            "You can set `force_row_wise=true` to remove the overhead.\n",
            "And if memory is not enough, you can set `force_col_wise=true`.\n",
            "[LightGBM] [Info] Total Bins 1255\n",
            "[LightGBM] [Info] Number of data points in the train set: 108394, number of used features: 8\n",
            "[LightGBM] [Info] [binary:BoostFromScore]: pavg=0.055372 -> initscore=-2.836716\n",
            "[LightGBM] [Info] Start training from score -2.836716\n"
          ]
        }
      ],
      "source": [
        "# Create a pipeline\n",
        "LGBM_pipeline = Pipeline([\n",
        "    ('scaler', StandardScaler()),\n",
        "    ('model', LGBMClassifier(boosting_type='gbdt'))\n",
        "])\n",
        "mlflow_run_tracking('LGBMClassifier',LGBM_pipeline, X_train, y_train, X_test, y_test )"
      ]
    },
    {
      "cell_type": "code",
      "execution_count": 21,
      "metadata": {
        "vscode": {
          "languageId": "powershell"
        }
      },
      "outputs": [],
      "source": [
        "# Create a pipeline\n",
        "decision_tree_pipeline = Pipeline([\n",
        "    ('scaler', StandardScaler()),\n",
        "    ('model', DecisionTreeClassifier())\n",
        "])\n"
      ]
    },
    {
      "cell_type": "code",
      "execution_count": 38,
      "metadata": {
        "vscode": {
          "languageId": "powershell"
        }
      },
      "outputs": [],
      "source": [
        "# Create a pipeline\n",
        "svm_pipeline = Pipeline([\n",
        "    ('scaler', StandardScaler()),\n",
        "    ('model', SVC())\n",
        "])\n",
        "mlflow_run_tracking('SVM',svm_pipeline, X_train, y_train, X_test, y_test )"
      ]
    },
    {
      "cell_type": "code",
      "execution_count": 33,
      "metadata": {
        "vscode": {
          "languageId": "powershell"
        }
      },
      "outputs": [],
      "source": [
        "def mlflow_run_tracking(model_name, model, X_train, y_train, X_test, y_test):\n",
        "    \"\"\"\n",
        "    Function to track model training using MLflow.\n",
        "\n",
        "    Parameters:\n",
        "    - model_name (str): Name of the model.\n",
        "    - model: The machine learning model object.\n",
        "    - X_train: Training data features.\n",
        "    - y_train: Training data labels.\n",
        "    - X_test: Testing data features.\n",
        "    - y_test: Testing data labels.\n",
        "\n",
        "    Example:\n",
        "    mlflow_run_tracking(\"LGBMClassifier\", LGBM_pipeline, X_train, y_train, X_test, y_test)\n",
        "    \"\"\"\n",
        "    mlflow.set_tracking_uri('http://localhost:5000') \n",
        "    with mlflow.start_run():\n",
        "        mlflow.set_tag(\"model\", model_name)\n",
        "\n",
        "        model.fit(X_train, y_train)\n",
        "\n",
        "        predictions = model.predict(X_test)\n",
        "        AUC = metrics.roc_auc_score(y_test, predictions)\n",
        "\n",
        "        mlflow.sklearn.log_model(LGBM_pipeline, model_name)\n"
      ]
    },
    {
      "cell_type": "code",
      "execution_count": 23,
      "metadata": {
        "vscode": {
          "languageId": "powershell"
        }
      },
      "outputs": [
        {
          "name": "stdout",
          "output_type": "stream",
          "text": [
            "[LightGBM] [Info] Number of positive: 6002, number of negative: 102392\n",
            "[LightGBM] [Info] Auto-choosing row-wise multi-threading, the overhead of testing was 0.002899 seconds.\n",
            "You can set `force_row_wise=true` to remove the overhead.\n",
            "And if memory is not enough, you can set `force_col_wise=true`.\n",
            "[LightGBM] [Info] Total Bins 1255\n",
            "[LightGBM] [Info] Number of data points in the train set: 108394, number of used features: 8\n",
            "[LightGBM] [Info] [binary:BoostFromScore]: pavg=0.055372 -> initscore=-2.836716\n",
            "[LightGBM] [Info] Start training from score -2.836716\n"
          ]
        }
      ],
      "source": [
        "mlflow.set_tracking_uri('http://localhost:5000') \n",
        "with mlflow.start_run():\n",
        "    # Random Forest Regressor\n",
        "    mlflow.set_tag(\"model\", \"LGBMClassifier\")\n",
        "    # grid_search_rf = GridSearchCV(rf_pipeline, rf_params, cv=5, scoring='neg_mean_squared_error')\n",
        "    # grid_search_rf.fit(X_train, y_train)\n",
        "    \n",
        "    LGBM_pipeline.fit(X_train, y_train)\n",
        "    \n",
        "    # best_rf = grid_search_rf.best_estimator_\n",
        "    # mlflow.log_params(grid_search_rf.best_params_)\n",
        "\n",
        "    # Fit the StandardScaler\n",
        "    # decision_tree_pipeline['scaler'].fit(X_train)\n",
        "    predictions = LGBM_pipeline.predict(X_test)\n",
        "    AUC = metrics.roc_auc_score(y_test, predictions)\n",
        "\n",
        "    mlflow.sklearn.log_model(LGBM_pipeline, \"LGBMClassifier\")\n"
      ]
    },
    {
      "cell_type": "code",
      "execution_count": 22,
      "metadata": {
        "vscode": {
          "languageId": "powershell"
        }
      },
      "outputs": [],
      "source": [
        "mlflow.set_tracking_uri('http://localhost:5000')  # Replace with your MLflow tracking server URI\n",
        "\n",
        "with mlflow.start_run():\n",
        "    # Random Forest Regressor\n",
        "    mlflow.set_tag(\"model\", \"DecisionTreeClassifier\")\n",
        "    # grid_search_rf = GridSearchCV(rf_pipeline, rf_params, cv=5, scoring='neg_mean_squared_error')\n",
        "    decision_tree_pipeline.fit(X_train, y_train)\n",
        "    \n",
        "    # best_rf = grid_search_rf.best_estimator_\n",
        "    # mlflow.log_params(grid_search_rf.best_params_)\n",
        "\n",
        "    # Fit the StandardScaler\n",
        "    # decision_tree_pipeline['scaler'].fit(X_train)\n",
        "    predictions = decision_tree_pipeline.predict(X_test)\n",
        "    AUC = metrics.roc_auc_score(y_test, predictions)\n",
        "    mlflow.log_metric(\"AUC\", AUC)\n",
        "\n",
        "    mlflow.sklearn.log_model(decision_tree_pipeline, \"DecisionTreeClassifier\")\n"
      ]
    },
    {
      "cell_type": "code",
      "execution_count": null,
      "metadata": {
        "colab": {
          "base_uri": "https://localhost:8080/"
        },
        "id": "iXjUC4PZYMgF",
        "outputId": "3f132cea-1ef5-45ce-bdf0-45c76a62c84c",
        "vscode": {
          "languageId": "powershell"
        }
      },
      "outputs": [
        {
          "name": "stdout",
          "output_type": "stream",
          "text": [
            "[LightGBM] [Warning] Unknown parameter: num_iterationss\n"
          ]
        },
        {
          "data": {
            "text/html": [
              "<style>#sk-container-id-1 {color: black;background-color: white;}#sk-container-id-1 pre{padding: 0;}#sk-container-id-1 div.sk-toggleable {background-color: white;}#sk-container-id-1 label.sk-toggleable__label {cursor: pointer;display: block;width: 100%;margin-bottom: 0;padding: 0.3em;box-sizing: border-box;text-align: center;}#sk-container-id-1 label.sk-toggleable__label-arrow:before {content: \"▸\";float: left;margin-right: 0.25em;color: #696969;}#sk-container-id-1 label.sk-toggleable__label-arrow:hover:before {color: black;}#sk-container-id-1 div.sk-estimator:hover label.sk-toggleable__label-arrow:before {color: black;}#sk-container-id-1 div.sk-toggleable__content {max-height: 0;max-width: 0;overflow: hidden;text-align: left;background-color: #f0f8ff;}#sk-container-id-1 div.sk-toggleable__content pre {margin: 0.2em;color: black;border-radius: 0.25em;background-color: #f0f8ff;}#sk-container-id-1 input.sk-toggleable__control:checked~div.sk-toggleable__content {max-height: 200px;max-width: 100%;overflow: auto;}#sk-container-id-1 input.sk-toggleable__control:checked~label.sk-toggleable__label-arrow:before {content: \"▾\";}#sk-container-id-1 div.sk-estimator input.sk-toggleable__control:checked~label.sk-toggleable__label {background-color: #d4ebff;}#sk-container-id-1 div.sk-label input.sk-toggleable__control:checked~label.sk-toggleable__label {background-color: #d4ebff;}#sk-container-id-1 input.sk-hidden--visually {border: 0;clip: rect(1px 1px 1px 1px);clip: rect(1px, 1px, 1px, 1px);height: 1px;margin: -1px;overflow: hidden;padding: 0;position: absolute;width: 1px;}#sk-container-id-1 div.sk-estimator {font-family: monospace;background-color: #f0f8ff;border: 1px dotted black;border-radius: 0.25em;box-sizing: border-box;margin-bottom: 0.5em;}#sk-container-id-1 div.sk-estimator:hover {background-color: #d4ebff;}#sk-container-id-1 div.sk-parallel-item::after {content: \"\";width: 100%;border-bottom: 1px solid gray;flex-grow: 1;}#sk-container-id-1 div.sk-label:hover label.sk-toggleable__label {background-color: #d4ebff;}#sk-container-id-1 div.sk-serial::before {content: \"\";position: absolute;border-left: 1px solid gray;box-sizing: border-box;top: 0;bottom: 0;left: 50%;z-index: 0;}#sk-container-id-1 div.sk-serial {display: flex;flex-direction: column;align-items: center;background-color: white;padding-right: 0.2em;padding-left: 0.2em;position: relative;}#sk-container-id-1 div.sk-item {position: relative;z-index: 1;}#sk-container-id-1 div.sk-parallel {display: flex;align-items: stretch;justify-content: center;background-color: white;position: relative;}#sk-container-id-1 div.sk-item::before, #sk-container-id-1 div.sk-parallel-item::before {content: \"\";position: absolute;border-left: 1px solid gray;box-sizing: border-box;top: 0;bottom: 0;left: 50%;z-index: -1;}#sk-container-id-1 div.sk-parallel-item {display: flex;flex-direction: column;z-index: 1;position: relative;background-color: white;}#sk-container-id-1 div.sk-parallel-item:first-child::after {align-self: flex-end;width: 50%;}#sk-container-id-1 div.sk-parallel-item:last-child::after {align-self: flex-start;width: 50%;}#sk-container-id-1 div.sk-parallel-item:only-child::after {width: 0;}#sk-container-id-1 div.sk-dashed-wrapped {border: 1px dashed gray;margin: 0 0.4em 0.5em 0.4em;box-sizing: border-box;padding-bottom: 0.4em;background-color: white;}#sk-container-id-1 div.sk-label label {font-family: monospace;font-weight: bold;display: inline-block;line-height: 1.2em;}#sk-container-id-1 div.sk-label-container {text-align: center;}#sk-container-id-1 div.sk-container {/* jupyter's `normalize.less` sets `[hidden] { display: none; }` but bootstrap.min.css set `[hidden] { display: none !important; }` so we also need the `!important` here to be able to override the default hidden behavior on the sphinx rendered scikit-learn.org. See: https://github.com/scikit-learn/scikit-learn/issues/21755 */display: inline-block !important;position: relative;}#sk-container-id-1 div.sk-text-repr-fallback {display: none;}</style><div id=\"sk-container-id-1\" class=\"sk-top-container\"><div class=\"sk-text-repr-fallback\"><pre>LGBMClassifier(num_iterationss=500)</pre><b>In a Jupyter environment, please rerun this cell to show the HTML representation or trust the notebook. <br />On GitHub, the HTML representation is unable to render, please try loading this page with nbviewer.org.</b></div><div class=\"sk-container\" hidden><div class=\"sk-item\"><div class=\"sk-estimator sk-toggleable\"><input class=\"sk-toggleable__control sk-hidden--visually\" id=\"sk-estimator-id-1\" type=\"checkbox\" checked><label for=\"sk-estimator-id-1\" class=\"sk-toggleable__label sk-toggleable__label-arrow\">LGBMClassifier</label><div class=\"sk-toggleable__content\"><pre>LGBMClassifier(num_iterationss=500)</pre></div></div></div></div></div>"
            ],
            "text/plain": [
              "LGBMClassifier(num_iterationss=500)"
            ]
          },
          "execution_count": 41,
          "metadata": {},
          "output_type": "execute_result"
        }
      ],
      "source": [
        "model = LGBMClassifier(boosting_type='gbdt', num_iterationss=500)\n",
        "model.fit(x_train, y_train)"
      ]
    },
    {
      "cell_type": "code",
      "execution_count": null,
      "metadata": {
        "colab": {
          "base_uri": "https://localhost:8080/"
        },
        "id": "ddn7FuuCZHqr",
        "outputId": "e6d5735b-9abf-4e99-e83d-b04b7e63ac44",
        "vscode": {
          "languageId": "powershell"
        }
      },
      "outputs": [
        {
          "data": {
            "text/plain": [
              "array([60, 69, 62, 63])"
            ]
          },
          "execution_count": 42,
          "metadata": {},
          "output_type": "execute_result"
        }
      ],
      "source": [
        "x_train.disrict.unique()"
      ]
    },
    {
      "cell_type": "markdown",
      "metadata": {
        "id": "CKsrOiePadZ7"
      },
      "source": [
        "## Make Predictions on test set"
      ]
    },
    {
      "cell_type": "code",
      "execution_count": null,
      "metadata": {
        "colab": {
          "base_uri": "https://localhost:8080/"
        },
        "id": "nBww16tEajXs",
        "outputId": "a963cd4a-4aaf-4d1b-8524-0d7e67be1c48",
        "vscode": {
          "languageId": "powershell"
        }
      },
      "outputs": [
        {
          "data": {
            "text/plain": [
              "Index(['disrict', 'client_catg', 'region', '1transactions_count',\n",
              "       'consommation_level_1_mean', 'consommation_level_2_mean',\n",
              "       'consommation_level_3_mean', 'consommation_level_4_mean'],\n",
              "      dtype='object')"
            ]
          },
          "execution_count": 43,
          "metadata": {},
          "output_type": "execute_result"
        }
      ],
      "source": [
        "test.columns"
      ]
    },
    {
      "cell_type": "code",
      "execution_count": null,
      "metadata": {
        "colab": {
          "base_uri": "https://localhost:8080/",
          "height": 206
        },
        "id": "SGIjyZfmaf7C",
        "outputId": "b4bdd7a5-a496-405c-9651-ba482afd1046",
        "vscode": {
          "languageId": "powershell"
        }
      },
      "outputs": [
        {
          "data": {
            "text/html": [
              "<div>\n",
              "<style scoped>\n",
              "    .dataframe tbody tr th:only-of-type {\n",
              "        vertical-align: middle;\n",
              "    }\n",
              "\n",
              "    .dataframe tbody tr th {\n",
              "        vertical-align: top;\n",
              "    }\n",
              "\n",
              "    .dataframe thead th {\n",
              "        text-align: right;\n",
              "    }\n",
              "</style>\n",
              "<table border=\"1\" class=\"dataframe\">\n",
              "  <thead>\n",
              "    <tr style=\"text-align: right;\">\n",
              "      <th></th>\n",
              "      <th>target</th>\n",
              "    </tr>\n",
              "  </thead>\n",
              "  <tbody>\n",
              "    <tr>\n",
              "      <th>0</th>\n",
              "      <td>0.0</td>\n",
              "    </tr>\n",
              "    <tr>\n",
              "      <th>1</th>\n",
              "      <td>0.0</td>\n",
              "    </tr>\n",
              "    <tr>\n",
              "      <th>2</th>\n",
              "      <td>0.0</td>\n",
              "    </tr>\n",
              "    <tr>\n",
              "      <th>3</th>\n",
              "      <td>0.0</td>\n",
              "    </tr>\n",
              "    <tr>\n",
              "      <th>4</th>\n",
              "      <td>0.0</td>\n",
              "    </tr>\n",
              "  </tbody>\n",
              "</table>\n",
              "</div>"
            ],
            "text/plain": [
              "   target\n",
              "0     0.0\n",
              "1     0.0\n",
              "2     0.0\n",
              "3     0.0\n",
              "4     0.0"
            ]
          },
          "execution_count": 44,
          "metadata": {},
          "output_type": "execute_result"
        }
      ],
      "source": [
        "preds = model.predict(test)\n",
        "preds = pd.DataFrame(preds, columns=['target'])\n",
        "preds.head()"
      ]
    },
    {
      "cell_type": "code",
      "execution_count": null,
      "metadata": {
        "colab": {
          "base_uri": "https://localhost:8080/",
          "height": 206
        },
        "id": "mX3rv6dwaw3-",
        "outputId": "6db1fc21-c545-4b99-a6f1-9357b2ef405d",
        "vscode": {
          "languageId": "powershell"
        }
      },
      "outputs": [
        {
          "data": {
            "text/html": [
              "<div>\n",
              "<style scoped>\n",
              "    .dataframe tbody tr th:only-of-type {\n",
              "        vertical-align: middle;\n",
              "    }\n",
              "\n",
              "    .dataframe tbody tr th {\n",
              "        vertical-align: top;\n",
              "    }\n",
              "\n",
              "    .dataframe thead th {\n",
              "        text-align: right;\n",
              "    }\n",
              "</style>\n",
              "<table border=\"1\" class=\"dataframe\">\n",
              "  <thead>\n",
              "    <tr style=\"text-align: right;\">\n",
              "      <th></th>\n",
              "      <th>client_id</th>\n",
              "      <th>target</th>\n",
              "    </tr>\n",
              "  </thead>\n",
              "  <tbody>\n",
              "    <tr>\n",
              "      <th>0</th>\n",
              "      <td>test_Client_0</td>\n",
              "      <td>0.0</td>\n",
              "    </tr>\n",
              "    <tr>\n",
              "      <th>1</th>\n",
              "      <td>test_Client_1</td>\n",
              "      <td>0.0</td>\n",
              "    </tr>\n",
              "    <tr>\n",
              "      <th>2</th>\n",
              "      <td>test_Client_10</td>\n",
              "      <td>0.0</td>\n",
              "    </tr>\n",
              "    <tr>\n",
              "      <th>3</th>\n",
              "      <td>test_Client_100</td>\n",
              "      <td>0.0</td>\n",
              "    </tr>\n",
              "    <tr>\n",
              "      <th>4</th>\n",
              "      <td>test_Client_1000</td>\n",
              "      <td>0.0</td>\n",
              "    </tr>\n",
              "  </tbody>\n",
              "</table>\n",
              "</div>"
            ],
            "text/plain": [
              "          client_id  target\n",
              "0     test_Client_0     0.0\n",
              "1     test_Client_1     0.0\n",
              "2    test_Client_10     0.0\n",
              "3   test_Client_100     0.0\n",
              "4  test_Client_1000     0.0"
            ]
          },
          "execution_count": 45,
          "metadata": {},
          "output_type": "execute_result"
        }
      ],
      "source": [
        "submission = pd.DataFrame(\n",
        "    {\n",
        "        'client_id': sub_client_id,\n",
        "        'target': preds['target']\n",
        "    }\n",
        ")\n",
        "\n",
        "submission.head()"
      ]
    },
    {
      "cell_type": "code",
      "execution_count": null,
      "metadata": {
        "id": "O7_ANcWUboUB",
        "vscode": {
          "languageId": "powershell"
        }
      },
      "outputs": [],
      "source": [
        "submission.to_csv(f'{OUTPUT_DIR}/submission.csv', index=False)"
      ]
    },
    {
      "cell_type": "markdown",
      "metadata": {
        "id": "Msm0u0WXdQ2l"
      },
      "source": [
        "## Tips \n",
        "- Thorough EDA and incorporating domain knowledge\n",
        "- Re-grouping categorical features\n",
        "- More feature engineering(try utilizing some date-time features)\n",
        "- Target balancing - oversampling, undersampling, SMOTE, scale_pos_weight\n",
        "- Model ensembling\n",
        "- Train-test split or cross-validation\n"
      ]
    }
  ],
  "metadata": {
    "colab": {
      "provenance": []
    },
    "kernelspec": {
      "display_name": "Python 3",
      "language": "python",
      "name": "python3"
    },
    "language_info": {
      "codemirror_mode": {
        "name": "ipython",
        "version": 3
      },
      "file_extension": ".py",
      "mimetype": "text/x-python",
      "name": "python",
      "nbconvert_exporter": "python",
      "pygments_lexer": "ipython3",
      "version": "3.8.10"
    }
  },
  "nbformat": 4,
  "nbformat_minor": 0
}
